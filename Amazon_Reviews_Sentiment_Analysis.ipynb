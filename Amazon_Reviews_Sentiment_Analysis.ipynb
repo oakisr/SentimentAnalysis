{
 "cells": [
  {
   "cell_type": "markdown",
   "metadata": {
    "id": "PPqcEas0zbok",
    "cell_id": "c6b2a6fd2d8941f887139b97522ca2e7",
    "deepnote_cell_type": "markdown"
   },
   "source": [
    "<table>\n",
    "<tr>\n",
    "    <td>\n",
    "        <img src=\"https://www.wordstream.com/wp-content/uploads/2021/07/how-to-get-amazon-reviews.png\" width=\"200\"/>\n",
    "    </td>\n",
    "    <td style=\"text-align: left; vertical-align: top;\">\n",
    "        <h1><strong>Amazon Reviews</strong><br></h1>\n",
    "        <h4>Engineering Large Scale Data Analytics Systems<br>\n",
    "        ENSF 612 - Fall 2023</h4>\n",
    "    </td>\n",
    "</tr>\n",
    "</table>\n"
   ],
   "block_group": "0c00700d03e84a2193a30712ecb83e63"
  },
  {
   "cell_type": "markdown",
   "metadata": {
    "id": "aC1euGJV85Qz",
    "cell_id": "bd31c5ec1ce74bd4bb22e0f8dabbc25d",
    "deepnote_cell_type": "markdown"
   },
   "source": [
    "Author: Israel Suarez Robles\n",
    "\n",
    "Completion Date: December 16, 2023, Modified on: August 22, 2024\n",
    "\n",
    "Description: This project aims to develop a scalable multi-class sentiment analysis pipeline for Amazon reviews. It leverages Apache Spark, including Spark NLP and SparkTorch frameworks, to enable efficient data processing and inference in a distributed setup. The solution is designed to handle large-scale datasets, providing robust and accurate sentiment classification across multiple categories."
   ],
   "block_group": "680a6c3e0c394c04b34721f0e52f8610"
  },
  {
   "cell_type": "markdown",
   "metadata": {
    "id": "f9WO6Sbd1kLP",
    "cell_id": "132b919ad87140fb8f01ab13bce636f7",
    "deepnote_cell_type": "markdown"
   },
   "source": [
    "#Setting up Apache Spark, Spark NLP and GPU"
   ],
   "block_group": "3121bb5e326243ee820124f1a3bd73d4"
  },
  {
   "cell_type": "code",
   "metadata": {
    "id": "rwrcCSSBE5aw",
    "colab": {
     "base_uri": "https://localhost:8080/"
    },
    "outputId": "c40f5e46-ecc4-4876-8d2f-9713a2c20c32",
    "source_hash": null,
    "execution_start": 1724533078724,
    "execution_millis": 1047,
    "deepnote_to_be_reexecuted": false,
    "cell_id": "b128e311941d490099bf589b6324a99e",
    "deepnote_cell_type": "code"
   },
   "source": [
    "# Veryfing if Java is already available and the current version\n",
    "# NOTE: Java 11 is pre-installed by default in google colab and compatible with our version of Spark NLP. \n",
    "# However Java might not be pre-installed in other environments.\n",
    "\n",
    "# Verify Java installation\n",
    "import subprocess, os\n",
    "result = subprocess.run(['which', 'java'], stdout=subprocess.PIPE, stderr=subprocess.PIPE)\n",
    "\n",
    "if result.returncode != 0:\n",
    "    # Update package lists\n",
    "    !apt-get -q update\n",
    "\n",
    "    # Install OpenJDK 11\n",
    "    !apt-get -y -q install openjdk-11-jdk\n",
    "\n",
    "    # Set JAVA_HOME environment variable \n",
    "    os.environ['JAVA_HOME'] = '/usr/lib/jvm/java-11-openjdk-amd64'\n",
    "\n",
    "# Verify Java version\n",
    "!java -version"
   ],
   "block_group": "2f56d7a8f97742a7aca65a4f776ff5b2",
   "execution_count": null,
   "outputs": [
    {
     "name": "stdout",
     "text": "openjdk version \"11.0.23\" 2024-04-16\nOpenJDK Runtime Environment (build 11.0.23+9-post-Debian-1deb10u1)\nOpenJDK 64-Bit Server VM (build 11.0.23+9-post-Debian-1deb10u1, mixed mode, sharing)\n",
     "output_type": "stream"
    }
   ],
   "outputs_reference": "dbtable:cell_outputs/ebd40fed-0a08-41f9-b5fe-ed60259f5c8f",
   "content_dependencies": null
  },
  {
   "cell_type": "code",
   "metadata": {
    "id": "JFmaGI4_CXBR",
    "colab": {
     "base_uri": "https://localhost:8080/"
    },
    "outputId": "717e7f32-d411-4892-a03b-8adb05130cdc",
    "source_hash": null,
    "execution_start": 1724533080266,
    "execution_millis": 45479,
    "deepnote_to_be_reexecuted": false,
    "cell_id": "37fc4e29fcf2404c82168d8e972c461d",
    "deepnote_cell_type": "code"
   },
   "source": [
    "!pip -q install pyspark==3.3.3\n",
    "!pip -q install spark-nlp==5.2.0\n",
    "\n",
    "import sparknlp\n",
    "spark = sparknlp.start(gpu = True) # for GPU training >> sparknlp.start(gpu = True)\n",
    "spark.sparkContext.setLogLevel(\"ERROR\")\n",
    "\n",
    "sc = spark.sparkContext"
   ],
   "block_group": "c82840ac51d949b7a74ce90a22494c55",
   "execution_count": null,
   "outputs": [
    {
     "name": "stdout",
     "text": "\n\u001B[1m[\u001B[0m\u001B[34;49mnotice\u001B[0m\u001B[1;39;49m]\u001B[0m\u001B[39;49m A new release of pip is available: \u001B[0m\u001B[31;49m23.0.1\u001B[0m\u001B[39;49m -> \u001B[0m\u001B[32;49m24.2\u001B[0m\n\u001B[1m[\u001B[0m\u001B[34;49mnotice\u001B[0m\u001B[1;39;49m]\u001B[0m\u001B[39;49m To update, run: \u001B[0m\u001B[32;49mpip install --upgrade pip\u001B[0m\n\n\u001B[1m[\u001B[0m\u001B[34;49mnotice\u001B[0m\u001B[1;39;49m]\u001B[0m\u001B[39;49m A new release of pip is available: \u001B[0m\u001B[31;49m23.0.1\u001B[0m\u001B[39;49m -> \u001B[0m\u001B[32;49m24.2\u001B[0m\n\u001B[1m[\u001B[0m\u001B[34;49mnotice\u001B[0m\u001B[1;39;49m]\u001B[0m\u001B[39;49m To update, run: \u001B[0m\u001B[32;49mpip install --upgrade pip\u001B[0m\n:: loading settings :: url = jar:file:/root/venv/lib/python3.9/site-packages/pyspark/jars/ivy-2.5.1.jar!/org/apache/ivy/core/settings/ivysettings.xml\nIvy Default Cache set to: /root/.ivy2/cache\nThe jars for the packages stored in: /root/.ivy2/jars\ncom.johnsnowlabs.nlp#spark-nlp-gpu_2.12 added as a dependency\n:: resolving dependencies :: org.apache.spark#spark-submit-parent-66e5b88a-d6f6-41f5-881f-7a286d4de59e;1.0\n\tconfs: [default]\n\tfound com.johnsnowlabs.nlp#spark-nlp-gpu_2.12;5.2.0 in central\n\tfound com.typesafe#config;1.4.2 in central\n\tfound org.rocksdb#rocksdbjni;6.29.5 in central\n\tfound com.amazonaws#aws-java-sdk-bundle;1.11.828 in central\n\tfound com.github.universal-automata#liblevenshtein;3.0.0 in central\n\tfound com.google.protobuf#protobuf-java-util;3.0.0-beta-3 in central\n\tfound com.google.protobuf#protobuf-java;3.0.0-beta-3 in central\n\tfound com.google.code.gson#gson;2.3 in central\n\tfound it.unimi.dsi#fastutil;7.0.12 in central\n\tfound org.projectlombok#lombok;1.16.8 in central\n\tfound com.google.cloud#google-cloud-storage;2.20.1 in central\n\tfound com.google.guava#guava;31.1-jre in central\n\tfound com.google.guava#failureaccess;1.0.1 in central\n\tfound com.google.guava#listenablefuture;9999.0-empty-to-avoid-conflict-with-guava in central\n\tfound com.google.errorprone#error_prone_annotations;2.18.0 in central\n\tfound com.google.j2objc#j2objc-annotations;1.3 in central\n\tfound com.google.http-client#google-http-client;1.43.0 in central\n\tfound io.opencensus#opencensus-contrib-http-util;0.31.1 in central\n\tfound com.google.http-client#google-http-client-jackson2;1.43.0 in central\n\tfound com.google.http-client#google-http-client-gson;1.43.0 in central\n\tfound com.google.api-client#google-api-client;2.2.0 in central\n\tfound commons-codec#commons-codec;1.15 in central\n\tfound com.google.oauth-client#google-oauth-client;1.34.1 in central\n\tfound com.google.http-client#google-http-client-apache-v2;1.43.0 in central\n\tfound com.google.apis#google-api-services-storage;v1-rev20220705-2.0.0 in central\n\tfound com.google.code.gson#gson;2.10.1 in central\n\tfound com.google.cloud#google-cloud-core;2.12.0 in central\n\tfound io.grpc#grpc-context;1.53.0 in central\n\tfound com.google.auto.value#auto-value-annotations;1.10.1 in central\n\tfound com.google.auto.value#auto-value;1.10.1 in central\n\tfound javax.annotation#javax.annotation-api;1.3.2 in central\n\tfound commons-logging#commons-logging;1.2 in central\n\tfound com.google.cloud#google-cloud-core-http;2.12.0 in central\n\tfound com.google.http-client#google-http-client-appengine;1.43.0 in central\n\tfound com.google.api#gax-httpjson;0.108.2 in central\n\tfound com.google.cloud#google-cloud-core-grpc;2.12.0 in central\n\tfound io.grpc#grpc-alts;1.53.0 in central\n\tfound io.grpc#grpc-grpclb;1.53.0 in central\n\tfound org.conscrypt#conscrypt-openjdk-uber;2.5.2 in central\n\tfound io.grpc#grpc-auth;1.53.0 in central\n\tfound io.grpc#grpc-protobuf;1.53.0 in central\n\tfound io.grpc#grpc-protobuf-lite;1.53.0 in central\n\tfound io.grpc#grpc-core;1.53.0 in central\n\tfound com.google.api#gax;2.23.2 in central\n\tfound com.google.api#gax-grpc;2.23.2 in central\n\tfound com.google.auth#google-auth-library-credentials;1.16.0 in central\n\tfound com.google.auth#google-auth-library-oauth2-http;1.16.0 in central\n\tfound com.google.api#api-common;2.6.2 in central\n\tfound io.opencensus#opencensus-api;0.31.1 in central\n\tfound com.google.api.grpc#proto-google-iam-v1;1.9.2 in central\n\tfound com.google.protobuf#protobuf-java;3.21.12 in central\n\tfound com.google.protobuf#protobuf-java-util;3.21.12 in central\n\tfound com.google.api.grpc#proto-google-common-protos;2.14.2 in central\n\tfound org.threeten#threetenbp;1.6.5 in central\n\tfound com.google.api.grpc#proto-google-cloud-storage-v2;2.20.1-alpha in central\n\tfound com.google.api.grpc#grpc-google-cloud-storage-v2;2.20.1-alpha in central\n\tfound com.google.api.grpc#gapic-google-cloud-storage-v2;2.20.1-alpha in central\n\tfound com.fasterxml.jackson.core#jackson-core;2.14.2 in central\n\tfound com.google.code.findbugs#jsr305;3.0.2 in central\n\tfound io.grpc#grpc-api;1.53.0 in central\n\tfound io.grpc#grpc-stub;1.53.0 in central\n\tfound org.checkerframework#checker-qual;3.31.0 in central\n\tfound io.perfmark#perfmark-api;0.26.0 in central\n\tfound com.google.android#annotations;4.1.1.4 in central\n\tfound org.codehaus.mojo#animal-sniffer-annotations;1.22 in central\n\tfound io.opencensus#opencensus-proto;0.2.0 in central\n\tfound io.grpc#grpc-services;1.53.0 in central\n\tfound com.google.re2j#re2j;1.6 in central\n\tfound io.grpc#grpc-netty-shaded;1.53.0 in central\n\tfound io.grpc#grpc-googleapis;1.53.0 in central\n\tfound io.grpc#grpc-xds;1.53.0 in central\n\tfound com.navigamez#greex;1.0 in central\n\tfound dk.brics.automaton#automaton;1.11-8 in central\n\tfound com.johnsnowlabs.nlp#tensorflow-gpu_2.12;0.4.4 in central\n\tfound com.microsoft.onnxruntime#onnxruntime_gpu;1.16.3 in central\n:: resolution report :: resolve 4260ms :: artifacts dl 171ms\n\t:: modules in use:\n\tcom.amazonaws#aws-java-sdk-bundle;1.11.828 from central in [default]\n\tcom.fasterxml.jackson.core#jackson-core;2.14.2 from central in [default]\n\tcom.github.universal-automata#liblevenshtein;3.0.0 from central in [default]\n\tcom.google.android#annotations;4.1.1.4 from central in [default]\n\tcom.google.api#api-common;2.6.2 from central in [default]\n\tcom.google.api#gax;2.23.2 from central in [default]\n\tcom.google.api#gax-grpc;2.23.2 from central in [default]\n\tcom.google.api#gax-httpjson;0.108.2 from central in [default]\n\tcom.google.api-client#google-api-client;2.2.0 from central in [default]\n\tcom.google.api.grpc#gapic-google-cloud-storage-v2;2.20.1-alpha from central in [default]\n\tcom.google.api.grpc#grpc-google-cloud-storage-v2;2.20.1-alpha from central in [default]\n\tcom.google.api.grpc#proto-google-cloud-storage-v2;2.20.1-alpha from central in [default]\n\tcom.google.api.grpc#proto-google-common-protos;2.14.2 from central in [default]\n\tcom.google.api.grpc#proto-google-iam-v1;1.9.2 from central in [default]\n\tcom.google.apis#google-api-services-storage;v1-rev20220705-2.0.0 from central in [default]\n\tcom.google.auth#google-auth-library-credentials;1.16.0 from central in [default]\n\tcom.google.auth#google-auth-library-oauth2-http;1.16.0 from central in [default]\n\tcom.google.auto.value#auto-value;1.10.1 from central in [default]\n\tcom.google.auto.value#auto-value-annotations;1.10.1 from central in [default]\n\tcom.google.cloud#google-cloud-core;2.12.0 from central in [default]\n\tcom.google.cloud#google-cloud-core-grpc;2.12.0 from central in [default]\n\tcom.google.cloud#google-cloud-core-http;2.12.0 from central in [default]\n\tcom.google.cloud#google-cloud-storage;2.20.1 from central in [default]\n\tcom.google.code.findbugs#jsr305;3.0.2 from central in [default]\n\tcom.google.code.gson#gson;2.10.1 from central in [default]\n\tcom.google.errorprone#error_prone_annotations;2.18.0 from central in [default]\n\tcom.google.guava#failureaccess;1.0.1 from central in [default]\n\tcom.google.guava#guava;31.1-jre from central in [default]\n\tcom.google.guava#listenablefuture;9999.0-empty-to-avoid-conflict-with-guava from central in [default]\n\tcom.google.http-client#google-http-client;1.43.0 from central in [default]\n\tcom.google.http-client#google-http-client-apache-v2;1.43.0 from central in [default]\n\tcom.google.http-client#google-http-client-appengine;1.43.0 from central in [default]\n\tcom.google.http-client#google-http-client-gson;1.43.0 from central in [default]\n\tcom.google.http-client#google-http-client-jackson2;1.43.0 from central in [default]\n\tcom.google.j2objc#j2objc-annotations;1.3 from central in [default]\n\tcom.google.oauth-client#google-oauth-client;1.34.1 from central in [default]\n\tcom.google.protobuf#protobuf-java;3.21.12 from central in [default]\n\tcom.google.protobuf#protobuf-java-util;3.21.12 from central in [default]\n\tcom.google.re2j#re2j;1.6 from central in [default]\n\tcom.johnsnowlabs.nlp#spark-nlp-gpu_2.12;5.2.0 from central in [default]\n\tcom.johnsnowlabs.nlp#tensorflow-gpu_2.12;0.4.4 from central in [default]\n\tcom.microsoft.onnxruntime#onnxruntime_gpu;1.16.3 from central in [default]\n\tcom.navigamez#greex;1.0 from central in [default]\n\tcom.typesafe#config;1.4.2 from central in [default]\n\tcommons-codec#commons-codec;1.15 from central in [default]\n\tcommons-logging#commons-logging;1.2 from central in [default]\n\tdk.brics.automaton#automaton;1.11-8 from central in [default]\n\tio.grpc#grpc-alts;1.53.0 from central in [default]\n\tio.grpc#grpc-api;1.53.0 from central in [default]\n\tio.grpc#grpc-auth;1.53.0 from central in [default]\n\tio.grpc#grpc-context;1.53.0 from central in [default]\n\tio.grpc#grpc-core;1.53.0 from central in [default]\n\tio.grpc#grpc-googleapis;1.53.0 from central in [default]\n\tio.grpc#grpc-grpclb;1.53.0 from central in [default]\n\tio.grpc#grpc-netty-shaded;1.53.0 from central in [default]\n\tio.grpc#grpc-protobuf;1.53.0 from central in [default]\n\tio.grpc#grpc-protobuf-lite;1.53.0 from central in [default]\n\tio.grpc#grpc-services;1.53.0 from central in [default]\n\tio.grpc#grpc-stub;1.53.0 from central in [default]\n\tio.grpc#grpc-xds;1.53.0 from central in [default]\n\tio.opencensus#opencensus-api;0.31.1 from central in [default]\n\tio.opencensus#opencensus-contrib-http-util;0.31.1 from central in [default]\n\tio.opencensus#opencensus-proto;0.2.0 from central in [default]\n\tio.perfmark#perfmark-api;0.26.0 from central in [default]\n\tit.unimi.dsi#fastutil;7.0.12 from central in [default]\n\tjavax.annotation#javax.annotation-api;1.3.2 from central in [default]\n\torg.checkerframework#checker-qual;3.31.0 from central in [default]\n\torg.codehaus.mojo#animal-sniffer-annotations;1.22 from central in [default]\n\torg.conscrypt#conscrypt-openjdk-uber;2.5.2 from central in [default]\n\torg.projectlombok#lombok;1.16.8 from central in [default]\n\torg.rocksdb#rocksdbjni;6.29.5 from central in [default]\n\torg.threeten#threetenbp;1.6.5 from central in [default]\n\t:: evicted modules:\n\tcom.google.protobuf#protobuf-java-util;3.0.0-beta-3 by [com.google.protobuf#protobuf-java-util;3.21.12] in [default]\n\tcom.google.protobuf#protobuf-java;3.0.0-beta-3 by [com.google.protobuf#protobuf-java;3.21.12] in [default]\n\tcom.google.code.gson#gson;2.3 by [com.google.code.gson#gson;2.10.1] in [default]\n\t---------------------------------------------------------------------\n\t|                  |            modules            ||   artifacts   |\n\t|       conf       | number| search|dwnlded|evicted|| number|dwnlded|\n\t---------------------------------------------------------------------\n\t|      default     |   75  |   0   |   0   |   3   ||   72  |   0   |\n\t---------------------------------------------------------------------\n:: retrieving :: org.apache.spark#spark-submit-parent-66e5b88a-d6f6-41f5-881f-7a286d4de59e\n\tconfs: [default]\n\t0 artifacts copied, 72 already retrieved (0kB/59ms)\n24/08/24 20:58:22 WARN NativeCodeLoader: Unable to load native-hadoop library for your platform... using builtin-java classes where applicable\nSetting default log level to \"WARN\".\nTo adjust logging level use sc.setLogLevel(newLevel). For SparkR, use setLogLevel(newLevel).\n",
     "output_type": "stream"
    }
   ],
   "outputs_reference": "s3:deepnote-cell-outputs-production/f8691422-343f-414a-bb04-b6e6743191ec",
   "content_dependencies": null
  },
  {
   "cell_type": "markdown",
   "metadata": {
    "id": "MsH2kePPYp5H",
    "cell_id": "a78772d2acd34efd83a8a6a4d276db5f",
    "deepnote_cell_type": "markdown"
   },
   "source": [
    "#Loading and Joining Datasets"
   ],
   "block_group": "d65d18e9ae394bcda8875ea0581999ed"
  },
  {
   "cell_type": "code",
   "metadata": {
    "id": "GmhKWpfEiyK6",
    "colab": {
     "base_uri": "https://localhost:8080/"
    },
    "outputId": "1b1da49f-d061-49bc-c59d-67231c5a0f5f",
    "source_hash": null,
    "execution_start": 1724523118776,
    "execution_millis": 692,
    "deepnote_to_be_reexecuted": false,
    "cell_id": "8092d28c323247e38ba51a3e2868be5e",
    "deepnote_cell_type": "code"
   },
   "source": [
    "# Clones the github repository containing the datasets\n",
    "!git clone https://github.com/MENG2023-TP/ENSF612-Project.git"
   ],
   "block_group": "c762e84430754f8ea89300775bd546bb",
   "execution_count": null,
   "outputs": [],
   "outputs_reference": null,
   "content_dependencies": null
  },
  {
   "cell_type": "code",
   "metadata": {
    "id": "N2zZsE4mWIEa",
    "colab": {
     "base_uri": "https://localhost:8080/"
    },
    "outputId": "42fc5400-b606-41f9-bb9f-e3b0f9b02145",
    "source_hash": null,
    "execution_start": 1724533127614,
    "execution_millis": 718,
    "deepnote_to_be_reexecuted": false,
    "cell_id": "ae9aaf039e0b44df8c9e550f7156a5f2",
    "deepnote_cell_type": "code"
   },
   "source": [
    "# Shows the distinc datasets used in the project\n",
    "!ls ENSF612-Project/datasets"
   ],
   "block_group": "df6c2a393e8e45638309c6e45808941a",
   "execution_count": null,
   "outputs": [
    {
     "name": "stdout",
     "text": "All_Beauty.json  Cellphones_and_Accessories.json  Software.json\nAppliances.json  Musical_Instruments.json\t  Video_Games.json\n",
     "output_type": "stream"
    }
   ],
   "outputs_reference": "dbtable:cell_outputs/30f7af79-c68b-453f-81d5-fea665d5ed99",
   "content_dependencies": null
  },
  {
   "cell_type": "code",
   "metadata": {
    "id": "1Ezm-o9Qc6Ii",
    "source_hash": null,
    "execution_start": 1724533128338,
    "execution_millis": 51,
    "deepnote_to_be_reexecuted": false,
    "cell_id": "889d482ca5ee41678724189a2f32e7e9",
    "deepnote_cell_type": "code"
   },
   "source": [
    "dataset_directory = 'ENSF612-Project/datasets'\n",
    "\n",
    "# Gets the list of files in the dataset directory that end in \".json\"\n",
    "json_files = [file for file in os.listdir(dataset_directory) if file.endswith('.json')]\n",
    "\n",
    "# Creates a list of full file paths\n",
    "file_paths = [os.path.join(dataset_directory, file) for file in json_files]"
   ],
   "block_group": "4fc32333db9a494fa8c160395c2b63dd",
   "execution_count": null,
   "outputs": [],
   "outputs_reference": null,
   "content_dependencies": null
  },
  {
   "cell_type": "code",
   "metadata": {
    "id": "Xg7bWZmDeCWJ",
    "source_hash": null,
    "execution_start": 1724533128369,
    "execution_millis": 71,
    "deepnote_to_be_reexecuted": false,
    "cell_id": "ceee41aaba07493595b1a9b15e456dfb",
    "deepnote_cell_type": "code"
   },
   "source": [
    "import json\n",
    "\n",
    "# Function to parse NDJSON (new line-delimited JSON) objects and extract specific fields\n",
    "def parse_ndjson(line):\n",
    "    try:\n",
    "        # Parse the JSON line and return only reviewText asin and reviewerID\n",
    "        json_line = json.loads(line)\n",
    "        return (\n",
    "            json_line.get('overall', ''),\n",
    "            json_line.get('reviewText', '')\n",
    "        )\n",
    "    except json.JSONDecodeError:\n",
    "        # In case of error, skip this record and return None\n",
    "        return None"
   ],
   "block_group": "a81d830b134a46dfa3bb2311512a0972",
   "execution_count": null,
   "outputs": [],
   "outputs_reference": null,
   "content_dependencies": null
  },
  {
   "cell_type": "code",
   "metadata": {
    "id": "sZauPMutEHHW",
    "source_hash": null,
    "execution_start": 1724533128382,
    "execution_millis": 11544,
    "deepnote_to_be_reexecuted": false,
    "cell_id": "29f87a30347048d7b20ebec0262fb194",
    "deepnote_cell_type": "code"
   },
   "source": [
    "# Initialize an empty RDD\n",
    "data_rdd = spark.sparkContext.emptyRDD()\n",
    "\n",
    "# Read each file into an RDD and parse its ndjson objects if not None\n",
    "# Note: a new file_rdd and data_rdd is created for each iteration\n",
    "for file_path in file_paths:\n",
    "    file_rdd = sc.textFile(file_path, 4)\n",
    "    parsed_rdd = file_rdd.map(parse_ndjson).filter(lambda x: x is not None)\n",
    "    data_rdd = data_rdd.union(parsed_rdd)\n",
    "\n",
    "# Convert the final data_rdd to a distributed Spark DataFrame\n",
    "df = spark.createDataFrame(data_rdd, schema=['score', 'review']).cache()"
   ],
   "block_group": "ded3b3004cd8478795a35165213a9eba",
   "execution_count": null,
   "outputs": [
    {
     "name": "stderr",
     "text": "",
     "output_type": "stream"
    }
   ],
   "outputs_reference": "dbtable:cell_outputs/0fac25e2-af48-43ec-9703-601650747402",
   "content_dependencies": null
  },
  {
   "cell_type": "markdown",
   "metadata": {
    "id": "qE0bEA5-R7ys",
    "cell_id": "3b8f594ce1c749878f24df1515cadee5",
    "deepnote_cell_type": "markdown"
   },
   "source": [
    "#Data Inspection and Validation"
   ],
   "block_group": "27d08ffef60e453fa96e9d4b3fd3dc38"
  },
  {
   "cell_type": "code",
   "metadata": {
    "id": "DAJd5ZPvge4v",
    "colab": {
     "height": 187,
     "base_uri": "https://localhost:8080/"
    },
    "outputId": "7a5fb9c1-42ea-4594-9d44-ccc0661b45e1",
    "source_hash": null,
    "execution_start": 1724523127781,
    "execution_millis": 94,
    "deepnote_to_be_reexecuted": false,
    "cell_id": "4f0307013eae44d280640c7712ee1268",
    "deepnote_cell_type": "code"
   },
   "source": [
    "# Shows type of df\n",
    "type(df)"
   ],
   "block_group": "3830142651044a6eb643707d4b116449",
   "execution_count": null,
   "outputs": [
    {
     "output_type": "execute_result",
     "execution_count": 81,
     "data": {
      "text/plain": "pyspark.sql.dataframe.DataFrame"
     },
     "metadata": {}
    }
   ],
   "outputs_reference": "dbtable:cell_outputs/2a72b78e-07ff-45c7-949d-eeaedacadfdc",
   "content_dependencies": null
  },
  {
   "cell_type": "code",
   "metadata": {
    "id": "A1qYQz9JsRcf",
    "colab": {
     "base_uri": "https://localhost:8080/"
    },
    "outputId": "54207d7b-7ddf-4fce-cf99-282d39de5534",
    "source_hash": null,
    "execution_start": 1724523138851,
    "execution_millis": 104,
    "deepnote_to_be_reexecuted": false,
    "cell_id": "7917fee2f6bd4cea85e3b1126dc463c4",
    "deepnote_cell_type": "code"
   },
   "source": [
    "# Shows attributes of df\n",
    "df"
   ],
   "block_group": "ec1d6ff92453484f984d1818d7b2fe3e",
   "execution_count": null,
   "outputs": [
    {
     "output_type": "execute_result",
     "execution_count": 82,
     "data": {
      "text/plain": "DataFrame[score: double, review: string]"
     },
     "metadata": {}
    }
   ],
   "outputs_reference": "dbtable:cell_outputs/03d13a2f-ab39-42ae-98fc-689a8a899753",
   "content_dependencies": null
  },
  {
   "cell_type": "code",
   "metadata": {
    "id": "1JB8WoYvVfgr",
    "colab": {
     "base_uri": "https://localhost:8080/"
    },
    "outputId": "cc60b4f1-70d8-4bb4-9491-96d0cb1ea148",
    "source_hash": null,
    "execution_start": 1724523139160,
    "execution_millis": 405,
    "deepnote_to_be_reexecuted": false,
    "cell_id": "12f432cdc24d43018fe52934a8879b91",
    "deepnote_cell_type": "code"
   },
   "source": [
    "# Previews the contect of a single record\n",
    "df.take(1)"
   ],
   "block_group": "85dbf40984ce4c9d8fe6d85f5c76de41",
   "execution_count": null,
   "outputs": [
    {
     "output_type": "execute_result",
     "execution_count": 83,
     "data": {
      "text/plain": "[Row(score=5.0, review='As advertised. Reasonably priced')]"
     },
     "metadata": {}
    }
   ],
   "outputs_reference": "dbtable:cell_outputs/b5b5be19-368a-496c-8250-50981bcf94c6",
   "content_dependencies": null
  },
  {
   "cell_type": "code",
   "metadata": {
    "id": "hXIqIZ070agO",
    "colab": {
     "base_uri": "https://localhost:8080/"
    },
    "outputId": "21e6adb5-d584-4f01-a8b7-1f2fb99a197b",
    "source_hash": null,
    "execution_start": 1724531241059,
    "execution_millis": 12790,
    "deepnote_to_be_reexecuted": false,
    "cell_id": "d36f1a73cd424b4694b5f5e201c0446c",
    "deepnote_cell_type": "code"
   },
   "source": [
    "# Counts amount of records in the DataFrame\n",
    "df.count()"
   ],
   "block_group": "51a5124c07784162937a86413aaeef26",
   "execution_count": null,
   "outputs": [
    {
     "name": "stderr",
     "text": "",
     "output_type": "stream"
    },
    {
     "output_type": "execute_result",
     "execution_count": 10,
     "data": {
      "text/plain": "24380"
     },
     "metadata": {}
    }
   ],
   "outputs_reference": "dbtable:cell_outputs/1996c694-8bdc-48e6-967b-f0cf39a7eab8",
   "content_dependencies": null
  },
  {
   "cell_type": "code",
   "metadata": {
    "id": "RR6lncBXVMo9",
    "colab": {
     "base_uri": "https://localhost:8080/"
    },
    "outputId": "08a2221c-118f-4a5c-cabb-05d0c48212c5",
    "source_hash": null,
    "execution_start": 1724523151685,
    "execution_millis": 119,
    "deepnote_to_be_reexecuted": false,
    "cell_id": "d63dc33c5466476789f505b5d2cf7e15",
    "deepnote_cell_type": "code"
   },
   "source": [
    "# Counts and shows amount of null values\n",
    "from pyspark.sql.functions import col, sum\n",
    "\n",
    "df.select([sum(col(c).isNull().cast(\"int\")).alias(c) for c in df.columns]).cache().show()"
   ],
   "block_group": "99781a2f60d84b069ed0cae6807fe6b8",
   "execution_count": null,
   "outputs": [
    {
     "name": "stdout",
     "text": "+-----+------+\n|score|review|\n+-----+------+\n|    0|     0|\n+-----+------+\n\n",
     "output_type": "stream"
    }
   ],
   "outputs_reference": "dbtable:cell_outputs/296a0316-94f9-49be-9e74-42fd7735965f",
   "content_dependencies": null
  },
  {
   "cell_type": "code",
   "metadata": {
    "id": "rHyLw0cP8ssT",
    "colab": {
     "base_uri": "https://localhost:8080/"
    },
    "outputId": "2ecfb7ae-0cc4-4128-9cf6-0eb86016eb5e",
    "source_hash": null,
    "execution_start": 1724525657394,
    "execution_millis": 11226,
    "deepnote_to_be_reexecuted": false,
    "cell_id": "1b7dd195ae8442c888568f0b0980a7c0",
    "deepnote_cell_type": "code"
   },
   "source": [
    "# Distribution of records by score in the DataFrame\n",
    "\n",
    "from pyspark.sql import functions as F\n",
    "\n",
    "# Count the number of reviews for each star rating\n",
    "star_rating_counts = df.groupBy(\"score\").count()\n",
    "\n",
    "# Rename the columns\n",
    "star_rating_counts = star_rating_counts.withColumnRenamed(\"score\", \"Star Rating\").withColumnRenamed(\"count\", \"Count\").show()"
   ],
   "block_group": "0336d32f21fe416b83c98c599f86bddf",
   "execution_count": null,
   "outputs": [
    {
     "name": "stderr",
     "text": "+-----------+-----+\n|Star Rating|Count|\n+-----------+-----+\n|        1.0| 1122|\n|        4.0| 3600|\n|        3.0| 2064|\n|        2.0|  884|\n|        5.0|16710|\n+-----------+-----+\n\n",
     "output_type": "stream"
    }
   ],
   "outputs_reference": "dbtable:cell_outputs/d3730486-16c2-4bf2-aba4-17dcc9b6951e",
   "content_dependencies": null
  },
  {
   "cell_type": "code",
   "metadata": {
    "id": "Ws74qvaUFqey",
    "cell_id": "0e32815cbebc4324ac4ab88b772ba80f",
    "deepnote_cell_type": "code"
   },
   "source": [
    "# Create a new balanced DataFrame by undersampling over-represented classes\n",
    "\n",
    "from pyspark.sql.functions import col, sum\n",
    "\n",
    "# Assuming you have a DataFrame df with a \"score\" column\n",
    "star_rating_counts = df.groupBy(\"score\").agg(F.count(\"score\").alias(\"Count\"))\n",
    "\n",
    "# Find the smallest class size\n",
    "smallest_class_size = star_rating_counts.selectExpr(\"min(Count)\").first()[0]\n",
    "\n",
    "# Sample each class based on the smallest class size\n",
    "df_balanced = df.filter(col(\"score\") == 1.0).sample(False, smallest_class_size / star_rating_counts.filter(col(\"score\") == 1.0).first()[1])\n",
    "df_balanced = df_balanced.unionAll(df.filter(col(\"score\") == 2.0))\n",
    "df_balanced = df_balanced.unionAll(df.filter(col(\"score\") == 3.0).sample(False, smallest_class_size / star_rating_counts.filter(col(\"score\") == 3.0).first()[1]))\n",
    "df_balanced = df_balanced.unionAll(df.filter(col(\"score\") == 4.0).sample(False, smallest_class_size / star_rating_counts.filter(col(\"score\") == 4.0).first()[1]))\n",
    "df_balanced = df_balanced.unionAll(df.filter(col(\"score\") == 5.0).sample(False, smallest_class_size / star_rating_counts.filter(col(\"score\") == 5.0).first()[1]))\n"
   ],
   "block_group": "ca4842d893304d12aaa9ea1164dc4f91",
   "execution_count": null,
   "outputs": [],
   "outputs_reference": null,
   "content_dependencies": null
  },
  {
   "cell_type": "code",
   "metadata": {
    "id": "QtVaIbnNQTYe",
    "colab": {
     "base_uri": "https://localhost:8080/"
    },
    "outputId": "c0cd24c4-0636-4b12-92fc-ef768177df76",
    "cell_id": "ddd27726741e48478d5e931d8f49f363",
    "deepnote_cell_type": "code"
   },
   "source": [
    "# Count the number of reviews for each star rating\n",
    "star_rating_counts = df_balanced.groupBy(\"score\").count()\n",
    "\n",
    "# Rename the columns\n",
    "star_rating_counts = star_rating_counts.withColumnRenamed(\"score\", \"Star Rating\").withColumnRenamed(\"count\", \"Count\").show()"
   ],
   "block_group": "730950b926b64074a4c497a381176814",
   "execution_count": null,
   "outputs": [
    {
     "name": "stdout",
     "output_type": "stream",
     "text": "+-----------+-----+\n|Star Rating|Count|\n+-----------+-----+\n|        1.0|  883|\n|        2.0|  884|\n|        3.0|  901|\n|        4.0|  870|\n|        5.0|  882|\n+-----------+-----+\n\n"
    }
   ],
   "outputs_reference": "dbtable:cell_outputs/3a9d75ac-b6cd-4671-814f-33eedc18a6c3",
   "content_dependencies": null
  },
  {
   "cell_type": "markdown",
   "metadata": {
    "id": "d16Q9GKxRbSN",
    "cell_id": "db43404baf20422ca549f8ae0e2a9e99",
    "deepnote_cell_type": "markdown"
   },
   "source": [
    "#Method 1: Training a Deep Learning Classifier using BERT Sentence Embeddings in Spark NLP"
   ],
   "block_group": "89e158d91cd145b38febc63d57bcde25"
  },
  {
   "cell_type": "markdown",
   "metadata": {
    "id": "-U0PX5Ewbpl3",
    "cell_id": "45544eb844b142b0a6a638d9a9cd38b9",
    "deepnote_cell_type": "markdown"
   },
   "source": [
    "##Splitting the dataset into training and validation sets"
   ],
   "block_group": "c83929e7f20149e787eb1cef447b23ad"
  },
  {
   "cell_type": "code",
   "metadata": {
    "id": "SccCJ3XW9l53",
    "cell_id": "a485685d10c9454b9b0f7c10725c2bd6",
    "deepnote_cell_type": "code"
   },
   "source": [
    "from sparknlp.base import *\n",
    "from sparknlp.annotator import *\n",
    "from sparknlp.training import *\n",
    "\n",
    "# Define the sample size for the validation set\n",
    "validation_sample_size = 0.25\n",
    "\n",
    "# Split the DataFrame into training and validation sets\n",
    "train_df, val_df = df_balanced.randomSplit([1 - validation_sample_size, validation_sample_size], seed=42)"
   ],
   "block_group": "d2ab53d4dece4d83807e32a84f5a050d",
   "execution_count": null,
   "outputs": [],
   "outputs_reference": null,
   "content_dependencies": null
  },
  {
   "cell_type": "markdown",
   "metadata": {
    "id": "jYmi0llXWnXi",
    "cell_id": "9ca3078a9bc6419fb023d9d967ccf1b3",
    "deepnote_cell_type": "markdown"
   },
   "source": [
    "##OPTION 1: Training and saving a new model (Skip when importing)"
   ],
   "block_group": "b94c4e4beaab4effa2d61b076e3e2383"
  },
  {
   "cell_type": "markdown",
   "metadata": {
    "id": "pApCLZUUX9m6",
    "cell_id": "787049c0741b4ad787e4caa2ba77ea0e",
    "deepnote_cell_type": "markdown"
   },
   "source": [
    "Defining pipeline"
   ],
   "block_group": "a91a5c53ef6f42ac96eefad137d2aae3"
  },
  {
   "cell_type": "code",
   "metadata": {
    "id": "s2Xc4vo-Hf4z",
    "colab": {
     "base_uri": "https://localhost:8080/"
    },
    "outputId": "d1d4b7a5-ca58-43bb-9fba-b64b2829c967",
    "cell_id": "3741daf0428d4e38aabf2cc5aa362678",
    "deepnote_cell_type": "code"
   },
   "source": [
    "# DocumentAssambler: this stage is a Spark NLP tranformer used to convert the raw text data\n",
    "# into a format that can be used for text proccesing.\n",
    "document = DocumentAssembler()\\\n",
    "    .setInputCol(\"review\")\\\n",
    "    .setOutputCol(\"document\")\n",
    "\n",
    "# BertSentenceEmbeddings: This stage utilizes a pre-trained sentence BERT model to convert the document\n",
    "# into sentence embeddings. Sentence embeddings are designed to represent the entire sentence as a\n",
    "# single fixed-size vector. This vector aims to capture the overall meaning and context of the sentence.\n",
    "bert_sent = BertSentenceEmbeddings.pretrained('sent_bert_base_uncased')\\\n",
    "    .setInputCols([\"document\"])\\\n",
    "    .setOutputCol(\"sentence_embeddings\")\n",
    "\n",
    "# ClassifierDLApproach: this stage uses a Deep Learning classifier that takes the sentence embeddings as\n",
    "# input and performs classification.\n",
    "classsifierdl = ClassifierDLApproach()\\\n",
    "    .setInputCols([\"sentence_embeddings\"])\\\n",
    "    .setOutputCol(\"class\") \\\n",
    "    .setLabelColumn(\"score\") \\\n",
    "    .setMaxEpochs(10)\\\n",
    "    .setEnableOutputLogs(True)\\\n",
    "    .setLr(0.001)\n",
    "\n",
    "bert_sent_clf_pipeline = Pipeline(stages = [document, bert_sent, classsifierdl])"
   ],
   "block_group": "ad6376907c404aa7a1572fedb91eeb48",
   "execution_count": null,
   "outputs": [
    {
     "name": "stdout",
     "output_type": "stream",
     "text": "sent_bert_base_uncased download started this may take some time.\nApproximate size to download 392.5 MB\n[OK!]\n"
    }
   ],
   "outputs_reference": "dbtable:cell_outputs/714822f8-3130-423b-9cf0-0e073313a647",
   "content_dependencies": null
  },
  {
   "cell_type": "code",
   "metadata": {
    "id": "Kzsb63baTw1S",
    "cell_id": "5f7ab60561ce451e9b90e3adec5f8d53",
    "deepnote_cell_type": "code"
   },
   "source": [
    "# Train model\n",
    "%%time\n",
    "bert_sent_pipelineModel = bert_sent_clf_pipeline.fit(train_df)"
   ],
   "block_group": "5467aa9a5bd94aa8ba8465bd838289c5",
   "execution_count": null,
   "outputs": [],
   "outputs_reference": null,
   "content_dependencies": null
  },
  {
   "cell_type": "code",
   "metadata": {
    "id": "7M9O46Dj9aA7",
    "cell_id": "0c1e59eb184b43ebbcaf76f12381237b",
    "deepnote_cell_type": "code"
   },
   "source": [
    "# Printing training logs\n",
    "\n",
    "log_files = os.listdir(\"/root/annotator_logs\")\n",
    "\n",
    "with open(\"/root/annotator_logs/\"+log_files[0], \"r\") as log_file :\n",
    "    print(log_file.read())"
   ],
   "block_group": "6d310b9f53f94786914ee6fe774c881b",
   "execution_count": null,
   "outputs": [],
   "outputs_reference": null,
   "content_dependencies": null
  },
  {
   "cell_type": "markdown",
   "metadata": {
    "id": "hHQK0RYiq9pT",
    "cell_id": "a2a9e970e0d240bd95fb89f29d233015",
    "deepnote_cell_type": "markdown"
   },
   "source": [
    "Saves, zips and downloads the model"
   ],
   "block_group": "735a2c57ae3b4e9398e308236d024df8"
  },
  {
   "cell_type": "code",
   "metadata": {
    "id": "YFU5MnAbLeN9",
    "cell_id": "7340c255e0dd4df0a9c8c58d3e8a175f",
    "deepnote_cell_type": "code"
   },
   "source": [
    "from google.colab import files\n",
    "\n",
    "bert_sent_pipelineModel.save(\"bert_sent_clf\") # This saves the model\n",
    "!zip -r bert_sent_clf.zip bert_sent_clf  # This zips the directory\n",
    "files.download('bert_sent_clf.zip')  # This downloads the zip file"
   ],
   "block_group": "8e7103ca8d064c008fb2522f8012c8a1",
   "execution_count": null,
   "outputs": [],
   "outputs_reference": null,
   "content_dependencies": null
  },
  {
   "cell_type": "markdown",
   "metadata": {
    "id": "1fYjXzLGXBb9",
    "cell_id": "5203916fa3ae49d29b3c73497efd3baa",
    "deepnote_cell_type": "markdown"
   },
   "source": [
    "##OPTION 2: Importing pre-trained model."
   ],
   "block_group": "49846bb90f394592b528219f0b0a977c"
  },
  {
   "cell_type": "code",
   "metadata": {
    "id": "c7p0h8LCXRov",
    "cell_id": "0202757d40a74c60895c99498eb8883a",
    "deepnote_cell_type": "code"
   },
   "source": [
    "%%capture\n",
    "!unzip bert_sent_clf.zip # Unzip file containing config, model and training_args files"
   ],
   "block_group": "eea311c918544be0a08de21e81a41154",
   "execution_count": null,
   "outputs": [],
   "outputs_reference": null,
   "content_dependencies": null
  },
  {
   "cell_type": "code",
   "metadata": {
    "id": "rdj5JkrsVjmA",
    "cell_id": "28a0ae2c7cdf4a95a0f85f7d3f0d7fcf",
    "deepnote_cell_type": "code"
   },
   "source": [
    "bert_sent_pipelineModel = PipelineModel.load(\"bert_sent_clf\") # Load pre-trained pipeline model"
   ],
   "block_group": "d0638b7e97f048de9071156a42a8ecb5",
   "execution_count": null,
   "outputs": [],
   "outputs_reference": null,
   "content_dependencies": null
  },
  {
   "cell_type": "markdown",
   "metadata": {
    "id": "eSThDlUrcBTB",
    "cell_id": "845263fea71f479ca6d14bcf4948dd8c",
    "deepnote_cell_type": "markdown"
   },
   "source": [
    "##Evaluating model performance"
   ],
   "block_group": "82121e1e51214c03be1053207da10be7"
  },
  {
   "cell_type": "code",
   "metadata": {
    "id": "NYoS0srBA7Kt",
    "cell_id": "8d597680d44f425d9ede7c1dcbeed626",
    "deepnote_cell_type": "code"
   },
   "source": [
    "from sklearn.metrics import classification_report\n",
    "\n",
    "preds = bert_sent_pipelineModel.transform(val_df)\n",
    "\n",
    "preds_df = preds.select('score','review',\"class.result\").toPandas()\n",
    "\n",
    "preds_df['result'] = preds_df['result'].apply(lambda x : x[0])"
   ],
   "block_group": "4b8dd724ff584a8ebf00355789809b7d",
   "execution_count": null,
   "outputs": [],
   "outputs_reference": null,
   "content_dependencies": null
  },
  {
   "cell_type": "code",
   "metadata": {
    "id": "I_D0WZC7CLB8",
    "colab": {
     "base_uri": "https://localhost:8080/"
    },
    "outputId": "2c1c5a24-4102-4f70-d97f-517b53b05d13",
    "cell_id": "31bb7427015949cbb42e6b153817a606",
    "deepnote_cell_type": "code"
   },
   "source": [
    "# Convert the 'result' column to numeric\n",
    "preds_df['result'] = preds_df['result'].astype(float)\n",
    "\n",
    "# Print the classification report\n",
    "print(classification_report(preds_df['score'], preds_df['result']))"
   ],
   "block_group": "d42d6cb5a9e6428598c322da7bca1016",
   "execution_count": null,
   "outputs": [
    {
     "name": "stdout",
     "output_type": "stream",
     "text": "              precision    recall  f1-score   support\n\n         1.0       0.57      0.80      0.67       212\n         2.0       0.39      0.44      0.41       214\n         3.0       0.69      0.21      0.32       236\n         4.0       0.37      0.47      0.41       209\n         5.0       0.67      0.64      0.65       227\n\n    accuracy                           0.51      1098\n   macro avg       0.54      0.51      0.49      1098\nweighted avg       0.54      0.51      0.49      1098\n\n"
    }
   ],
   "outputs_reference": "dbtable:cell_outputs/427e8a57-cc82-4855-85b6-04ad26bdea6e",
   "content_dependencies": null
  },
  {
   "cell_type": "code",
   "metadata": {
    "id": "ttUzOfP0EjvK",
    "colab": {
     "height": 564,
     "base_uri": "https://localhost:8080/"
    },
    "outputId": "c3a60a90-98ea-47e0-ce4c-abce5a19a77e",
    "cell_id": "226bc183bac441caa03122e572e82096",
    "deepnote_cell_type": "code"
   },
   "source": [
    "from sklearn.metrics import confusion_matrix\n",
    "import seaborn as sns\n",
    "import matplotlib.pyplot as plt\n",
    "\n",
    "# Calculate the confusion matrix\n",
    "conf_matrix = confusion_matrix(preds_df['score'], preds_df['result'])\n",
    "\n",
    "# Create a heatmap of the confusion matrix\n",
    "plt.figure(figsize=(8, 6))\n",
    "sns.heatmap(conf_matrix, annot=True, fmt='d', cmap='Blues', xticklabels=['1.0', '2.0', '3.0', '4.0', '5.0'], yticklabels=['1.0', '2.0', '3.0', '4.0', '5.0'])\n",
    "plt.xlabel('Predicted')\n",
    "plt.ylabel('Actual')\n",
    "plt.title('Confusion Matrix')\n",
    "plt.show()"
   ],
   "block_group": "eefd0aa68fa74810958e19a5819224e5",
   "execution_count": null,
   "outputs": [
    {
     "data": {
      "image/png": "[encoded data removed]",
      "text/plain": "<Figure size 800x600 with 2 Axes>"
     },
     "metadata": {},
     "output_type": "display_data"
    }
   ],
   "outputs_reference": "s3:deepnote-cell-outputs-production/eeaa0d5f-adaf-4e40-891c-067b7e7fd1f8",
   "content_dependencies": null
  },
  {
   "cell_type": "markdown",
   "metadata": {
    "id": "NTKowLzqgdjl",
    "cell_id": "cc231b1535e34ae39afdb38ee82af83a",
    "deepnote_cell_type": "markdown"
   },
   "source": [
    "**Method 1 summary:** this method implements a custom made pipeline to train a  deep learning classifier model  to classify text based on features extracted by the BERT sentence embeddings. The chosen pretrained model used to generate the embeddigs is sent_bert_base_uncased. The entire process is performed by using Spark NLP and leverage its distributed capabilities.\n",
    "\n",
    "Since the ClassifierDLApproach model is sensitive to imbalanced data, we trained the model using a balanced DataFrame obtained by applying undersampling. Note that undersampling did not affect negatively the accuracy of the model when compared to over sampling. Thus for efficiency the undersampling approach was maintained.\n",
    "\n",
    "The model obtained with this strategy yield an accuracy score of 0.51. Thus the model did not perform well enough for our fine graded sentiment analysis application which requires subdividing sentiment indicators into distinct categories (1 star to 5 stars).\n",
    "\n",
    "However upon analysing the confusion matrix we can note that the mayority of the missclassfications occur in close proximity to their true labels (2 instead of 1, 1 instead of 2, 2 and 4 instead of 3, 5 instead of 4 and 4 instead of 5). Because of the close proximity of the missclassifications we can conclude that this model would have yield a much higher accuracy for simpler sentiment analysis applications that only classify sentiment with negative, neutral and positive labels.\n"
   ],
   "block_group": "8e6a03506cbb4cb6b34a9124f6a43fe8"
  },
  {
   "cell_type": "markdown",
   "metadata": {
    "id": "7A0brnaPQNgK",
    "cell_id": "77f13de75eee44d98ad577170982746d",
    "deepnote_cell_type": "markdown"
   },
   "source": [
    "#Method 2: Fine-Tuning BertForSequenceClassification model from Hugging Face Transformers library"
   ],
   "block_group": "461a8e03a9d94a91bacaa720ec44460c"
  },
  {
   "cell_type": "code",
   "metadata": {
    "source_hash": null,
    "execution_start": 1724533784295,
    "execution_millis": 84,
    "deepnote_to_be_reexecuted": false,
    "cell_id": "c98eb45cda5846079a8658e63b76a423",
    "deepnote_cell_type": "code"
   },
   "source": [
    "import torch\n",
    "torch.__version__"
   ],
   "block_group": "6bfcc50b4dec45f896c0906f541ffddb",
   "execution_count": null,
   "outputs": [
    {
     "output_type": "execute_result",
     "execution_count": 12,
     "data": {
      "text/plain": "'1.12.1+cu102'"
     },
     "metadata": {}
    }
   ],
   "outputs_reference": "dbtable:cell_outputs/46529360-4513-4a24-b8de-3503496716d4",
   "content_dependencies": null
  },
  {
   "cell_type": "code",
   "metadata": {
    "id": "dHeup8-bIRiE",
    "source_hash": null,
    "execution_start": 1724533787480,
    "execution_millis": 201184,
    "deepnote_to_be_reexecuted": false,
    "cell_id": "28befc661691429f943336f401341039",
    "deepnote_cell_type": "code"
   },
   "source": [
    "# Importing required modules\n",
    "\n",
    "# PyTorch\n",
    "from torch.utils.data import Dataset, DataLoader, random_split\n",
    "if torch.cuda.is_available():\n",
    "  print(torch.cuda.current_device())\n",
    "  print(torch.cuda.get_device_name(0))\n",
    "device = torch.device(\"cuda\" if torch.cuda.is_available() else \"cpu\")\n",
    "\n",
    "# Hugging Face Transformers\n",
    "from transformers import BertTokenizer, BertForSequenceClassification, Trainer, TrainingArguments\n",
    "\n",
    "# Accelerate\n",
    "import accelerate\n",
    "print(f\"Accelerate version: {accelerate.__version__}\")"
   ],
   "block_group": "987cb7bd89b747469fecbed970994525",
   "execution_count": null,
   "outputs": [
    {
     "name": "stderr",
     "text": "2024-08-24 21:12:59.369596: I tensorflow/core/platform/cpu_feature_guard.cc:193] This TensorFlow binary is optimized with oneAPI Deep Neural Network Library (oneDNN) to use the following CPU instructions in performance-critical operations:  AVX2 AVX512F FMA\nTo enable them in other operations, rebuild TensorFlow with the appropriate compiler flags.\n2024-08-24 21:12:59.585765: W tensorflow/stream_executor/platform/default/dso_loader.cc:64] Could not load dynamic library 'libcudart.so.11.0'; dlerror: libcudart.so.11.0: cannot open shared object file: No such file or directory\n2024-08-24 21:12:59.585795: I tensorflow/stream_executor/cuda/cudart_stub.cc:29] Ignore above cudart dlerror if you do not have a GPU set up on your machine.\n2024-08-24 21:12:59.631235: E tensorflow/stream_executor/cuda/cuda_blas.cc:2981] Unable to register cuBLAS factory: Attempting to register factory for plugin cuBLAS when one has already been registered\n2024-08-24 21:13:00.483392: W tensorflow/stream_executor/platform/default/dso_loader.cc:64] Could not load dynamic library 'libnvinfer.so.7'; dlerror: libnvinfer.so.7: cannot open shared object file: No such file or directory\n2024-08-24 21:13:00.483532: W tensorflow/stream_executor/platform/default/dso_loader.cc:64] Could not load dynamic library 'libnvinfer_plugin.so.7'; dlerror: libnvinfer_plugin.so.7: cannot open shared object file: No such file or directory\n2024-08-24 21:13:00.483546: W tensorflow/compiler/tf2tensorrt/utils/py_utils.cc:38] TF-TRT Warning: Cannot dlopen some TensorRT libraries. If you would like to use Nvidia GPU with TensorRT, please make sure the missing libraries mentioned above are installed properly.\nAccelerate version: 0.33.0\n",
     "output_type": "stream"
    }
   ],
   "outputs_reference": "s3:deepnote-cell-outputs-production/ade27848-be66-46d6-9878-79a06530ae04",
   "content_dependencies": null
  },
  {
   "cell_type": "markdown",
   "metadata": {
    "id": "c_1op0sWyQwv",
    "cell_id": "b04557d791d14319803a476b21713b42",
    "deepnote_cell_type": "markdown"
   },
   "source": [
    "##Text Pre-Processing"
   ],
   "block_group": "78cedfdbef574ed4852f28a484d34b08"
  },
  {
   "cell_type": "code",
   "metadata": {
    "id": "k4-9n1ILO_YA",
    "colab": {
     "base_uri": "https://localhost:8080/"
    },
    "outputId": "90a03b58-3aa7-4800-8602-8b0bf931f834",
    "source_hash": null,
    "execution_start": 1724534482744,
    "execution_millis": 177843,
    "deepnote_to_be_reexecuted": false,
    "cell_id": "67bc4454bab1447bb0f1b7cd61693793",
    "deepnote_cell_type": "code"
   },
   "source": [
    "from pyspark.sql.functions import udf\n",
    "from pyspark.sql.types import StringType, ArrayType, IntegerType\n",
    "\n",
    "\"\"\"\n",
    "Expanding contractions\n",
    "\n",
    "Note:\n",
    "Expanding contractions is an optional preprocessing step that can improve text\n",
    "clarity and consistency. It can benefit models that rely on tokenization by ensuring\n",
    "uniformity in text representation, which may enhance feature extraction and overall\n",
    "model performance. This step is particularly useful for formal text or models\n",
    "sensitive to explicit language patterns.\n",
    "\"\"\"\n",
    "\n",
    "import contractions\n",
    "\n",
    "# Define the UDF for expanding contractions\n",
    "def expand_contractions_text(text):\n",
    "  return contractions.fix(text)\n",
    "\n",
    "expand_contractions_udf = udf(expand_contractions_text, StringType())\n",
    "\n",
    "# Apply the UDF to the DataFrame to create a new column with expanded contractions\n",
    "expanded_df = df.withColumn(\"expanded_review\", expand_contractions_udf(\"review\"))\n",
    "\n",
    "\"\"\"\n",
    "BERT Tokenization\n",
    "\"\"\"\n",
    "\n",
    "# Initialize BERT Tokenizer\n",
    "bert_tokenizer = BertTokenizer.from_pretrained('bert-base-uncased')\n",
    "\n",
    "# Function to tokenize and handle max length\n",
    "def bert_tokenize(text):\n",
    "  return bert_tokenizer.encode(text, add_special_tokens=True, max_length=512, truncation=True, padding='max_length')\n",
    "\n",
    "bert_tokenize_udf = udf(bert_tokenize, ArrayType(IntegerType()))\n",
    "\n",
    "# Apply the BERT Tokenizer UDF\n",
    "bert_df = expanded_df.withColumn(\"bert_tokens\", bert_tokenize_udf(\"expanded_review\"))\n",
    "\n",
    "# Show the processed data\n",
    "bert_df.show(5)"
   ],
   "block_group": "09d28a25c1624477b572686b63456ff0",
   "execution_count": null,
   "outputs": [
    {
     "name": "stderr",
     "text": "/root/venv/lib/python3.9/site-packages/transformers/tokenization_utils_base.py:1601: FutureWarning: `clean_up_tokenization_spaces` was not set. It will be set to `True` by default. This behavior will be depracted in transformers v4.45, and will be then set to `False` by default. For more details check this issue: https://github.com/huggingface/transformers/issues/31884\n  warnings.warn(\n+-----+--------------------+--------------------+--------------------+\n|score|              review|     expanded_review|         bert_tokens|\n+-----+--------------------+--------------------+--------------------+\n|  5.0|As advertised. Re...|As advertised. Re...|[101, 2004, 17099...|\n|  5.0|Like the oder and...|Like the oder and...|[101, 2066, 1996,...|\n|  1.0|I bought this to ...|I bought this to ...|[101, 1045, 4149,...|\n|  5.0|HEY!! I am an Aqu...|HEY!! I am an Aqu...|[101, 4931, 999, ...|\n|  5.0|If you ever want ...|If you ever want ...|[101, 2065, 2017,...|\n+-----+--------------------+--------------------+--------------------+\nonly showing top 5 rows\n\n",
     "output_type": "stream"
    }
   ],
   "outputs_reference": "s3:deepnote-cell-outputs-production/3e229a79-ce8b-4a07-8685-5db923864305",
   "content_dependencies": null
  },
  {
   "cell_type": "code",
   "metadata": {
    "source_hash": null,
    "execution_start": 1724535358751,
    "execution_millis": 96,
    "deepnote_to_be_reexecuted": false,
    "cell_id": "2c3d25b9e3f14c688640cddeda50ca7e",
    "deepnote_cell_type": "code"
   },
   "source": [
    "print(type(bert_df))\n"
   ],
   "block_group": "077b2b86e2df486e86752e3249259781",
   "execution_count": null,
   "outputs": [
    {
     "name": "stdout",
     "text": "<class 'pyspark.sql.dataframe.DataFrame'>\n",
     "output_type": "stream"
    }
   ],
   "outputs_reference": "dbtable:cell_outputs/1f1daecb-6bff-4387-8497-cc6e0ffc3d4e",
   "content_dependencies": null
  },
  {
   "cell_type": "code",
   "metadata": {
    "source_hash": null,
    "execution_start": 1724536686878,
    "execution_millis": 329948,
    "deepnote_to_be_reexecuted": false,
    "cell_id": "55865f2c2f244977b373be4ad7241ad2",
    "deepnote_cell_type": "code"
   },
   "source": [
    "# Save as Parquet\n",
    "bert_df.write.parquet('path_to_directory/bert_df.parquet', mode='overwrite')\n"
   ],
   "block_group": "2b6c032658134ef8a1def0c71031c63e",
   "execution_count": null,
   "outputs": [
    {
     "name": "stderr",
     "text": "",
     "output_type": "stream"
    }
   ],
   "outputs_reference": "dbtable:cell_outputs/28aad666-77cb-41e1-9607-0feb1e144c96",
   "content_dependencies": null
  },
  {
   "cell_type": "code",
   "metadata": {
    "source_hash": null,
    "execution_start": 1724535442953,
    "execution_millis": 341354,
    "deepnote_to_be_reexecuted": false,
    "cell_id": "a7b7bf97b4d34afa8c7e9597e91d51d6",
    "deepnote_cell_type": "code"
   },
   "source": [
    "from pyspark.sql.functions import udf\n",
    "from pyspark.sql.types import StringType\n",
    "\n",
    "# Function to convert array to comma-separated string\n",
    "def array_to_string(arr):\n",
    "    if arr is not None:\n",
    "        return ','.join(map(str, arr))\n",
    "    return None\n",
    "\n",
    "# Register the UDF\n",
    "array_to_string_udf = udf(array_to_string, StringType())\n",
    "\n",
    "# Apply the UDF to convert array columns\n",
    "for column in bert_df.columns:\n",
    "    if isinstance(bert_df.schema[column].dataType, ArrayType):\n",
    "        bert_df = bert_df.withColumn(column, array_to_string_udf(bert_df[column]))\n",
    "\n",
    "# Save Spark DataFrame to CSV\n",
    "bert_df.write.csv('path_to_directory/bert_df.csv', header=True, mode='overwrite')\n"
   ],
   "block_group": "2552ceee594c4ab996845ba3b342b002",
   "execution_count": null,
   "outputs": [
    {
     "name": "stderr",
     "text": "",
     "output_type": "stream"
    }
   ],
   "outputs_reference": "dbtable:cell_outputs/ef506df3-4579-4fa6-813f-eed552dfeeda",
   "content_dependencies": null
  },
  {
   "cell_type": "code",
   "metadata": {
    "id": "WZWOnJi6cUem",
    "source_hash": null,
    "execution_start": 1724532100464,
    "execution_millis": 274148,
    "deepnote_to_be_reexecuted": false,
    "cell_id": "546c380aec8f48f695b000c668256c10",
    "deepnote_cell_type": "code"
   },
   "source": [
    "\"\"\"\n",
    "Converting Spark DataFrame for Training BertForSequenceClassification with PyTorch.\n",
    "\n",
    "Note:\n",
    "Although SparkNLP and SparkTorch frameworks allow using pretrained transformer models\n",
    "for inference they do not offer native support for distributed training.\n",
    "\n",
    "For that reason, this script converts the Spark DataFrame to a Pandas DataFrame\n",
    "and then into PyTorch tensors using a custom dataset loader.\n",
    "\n",
    "\"\"\"\n",
    "\n",
    "# Convert Spark DataFrame to Pandas DataFrame\n",
    "pandas_df = bert_df.select(\"score\", \"bert_tokens\").toPandas()\n",
    "\n",
    "# Adjust labels from 1-5 to 0-4 and convert to integers\n",
    "pandas_df['score'] = pandas_df['score'] - 1\n",
    "pandas_df['score'] = pandas_df['score'].astype(int)\n",
    "unique_labels = pandas_df['score'].nunique()\n",
    "\n",
    "# Define a custom Dataset class for PyTorch\n",
    "\n",
    "os.environ['CUDA_LAUNCH_BLOCKING'] = \"1\"\n",
    "\n",
    "class BertDataset(Dataset):\n",
    "    def __init__(self, encodings, labels):\n",
    "        self.encodings = encodings\n",
    "        self.labels = labels\n",
    "\n",
    "    def __getitem__(self, idx):\n",
    "        item = {key: torch.tensor(val[idx]) for key, val in self.encodings.items()}\n",
    "        item['labels'] = torch.tensor(self.labels[idx])\n",
    "        return item\n",
    "\n",
    "    def __len__(self):\n",
    "        return len(self.labels)\n",
    "\n",
    "# Convert the Pandas DataFrame to a PyTorch Dataset\n",
    "encodings = {'input_ids': list(pandas_df['bert_tokens']), 'attention_mask': [[int(token_id > 0) for token_id in tokens] for tokens in pandas_df['bert_tokens']]}\n",
    "labels = pandas_df['score'].tolist()\n",
    "dataset = BertDataset(encodings, labels)"
   ],
   "block_group": "0e06de7d96d4460d8bd87f9a84cf640b",
   "execution_count": null,
   "outputs": [
    {
     "name": "stderr",
     "text": "",
     "output_type": "stream"
    }
   ],
   "outputs_reference": "dbtable:cell_outputs/e5e5326f-ae55-41c3-aa2e-329b2ef43600",
   "content_dependencies": null
  },
  {
   "cell_type": "markdown",
   "metadata": {
    "id": "ede1E_AJ-5Ej",
    "cell_id": "87b54df7d0934a7b90c7faa3c18eacb3",
    "deepnote_cell_type": "markdown"
   },
   "source": [
    "##Splitting the dataset into training, validation and testing sets"
   ],
   "block_group": "f356206885dc4ab69546f35fbc9fd842"
  },
  {
   "cell_type": "code",
   "metadata": {
    "id": "RrGovxtj-42T",
    "colab": {
     "height": 251,
     "base_uri": "https://localhost:8080/"
    },
    "outputId": "03d5804c-5cb9-41d1-ba58-2bffc091391b",
    "source_hash": null,
    "execution_start": 1724532374657,
    "execution_millis": 106,
    "deepnote_to_be_reexecuted": false,
    "cell_id": "e9ac882857984c538195a45769dfdb66",
    "deepnote_cell_type": "code"
   },
   "source": [
    "total_size = len(dataset)\n",
    "train_size = int(0.8 * len(dataset))            # 80%\n",
    "val_size = int(0.1 * len(dataset))              # 10%\n",
    "test_size = total_size - train_size - val_size  # 10%, ensuring no rounding issues\n",
    "\n",
    "train_dataset, val_dataset, test_dataset = random_split(dataset, [train_size, val_size, test_size])"
   ],
   "block_group": "f4232784b7364db79c875dd863b9f570",
   "execution_count": null,
   "outputs": [],
   "outputs_reference": null,
   "content_dependencies": null
  },
  {
   "cell_type": "markdown",
   "metadata": {
    "id": "BKA3Ok5aS9-z",
    "cell_id": "b8243ddf61044682a0f72e753384a06d",
    "deepnote_cell_type": "markdown"
   },
   "source": [
    "###OPTION 1: Fine-tuning BertForSequenceClassification model (Skip when importing)"
   ],
   "block_group": "f378e5a11a6e4d0da5278bdb0e33ceb5"
  },
  {
   "cell_type": "code",
   "metadata": {
    "id": "ekbFvhJYCPAw",
    "source_hash": null,
    "execution_start": 1724532374671,
    "execution_millis": 2407,
    "deepnote_to_be_reexecuted": false,
    "cell_id": "c7235d0041e942ce8bef6951dd8cf124",
    "deepnote_cell_type": "code"
   },
   "source": [
    "# Define the BERT model\n",
    "model = BertForSequenceClassification.from_pretrained('bert-base-uncased', num_labels=unique_labels)\n",
    "model.to(device)"
   ],
   "block_group": "527424b2b0994f859bc745ef14293c5c",
   "execution_count": null,
   "outputs": [
    {
     "name": "stderr",
     "text": "Some weights of BertForSequenceClassification were not initialized from the model checkpoint at bert-base-uncased and are newly initialized: ['classifier.bias', 'classifier.weight']\nYou should probably TRAIN this model on a down-stream task to be able to use it for predictions and inference.\n",
     "output_type": "stream"
    },
    {
     "output_type": "execute_result",
     "execution_count": 22,
     "data": {
      "text/plain": "BertForSequenceClassification(\n  (bert): BertModel(\n    (embeddings): BertEmbeddings(\n      (word_embeddings): Embedding(30522, 768, padding_idx=0)\n      (position_embeddings): Embedding(512, 768)\n      (token_type_embeddings): Embedding(2, 768)\n      (LayerNorm): LayerNorm((768,), eps=1e-12, elementwise_affine=True)\n      (dropout): Dropout(p=0.1, inplace=False)\n    )\n    (encoder): BertEncoder(\n      (layer): ModuleList(\n        (0): BertLayer(\n          (attention): BertAttention(\n            (self): BertSelfAttention(\n              (query): Linear(in_features=768, out_features=768, bias=True)\n              (key): Linear(in_features=768, out_features=768, bias=True)\n              (value): Linear(in_features=768, out_features=768, bias=True)\n              (dropout): Dropout(p=0.1, inplace=False)\n            )\n            (output): BertSelfOutput(\n              (dense): Linear(in_features=768, out_features=768, bias=True)\n              (LayerNorm): LayerNorm((768,), eps=1e-12, elementwise_affine=True)\n              (dropout): Dropout(p=0.1, inplace=False)\n            )\n          )\n          (intermediate): BertIntermediate(\n            (dense): Linear(in_features=768, out_features=3072, bias=True)\n            (intermediate_act_fn): GELUActivation()\n          )\n          (output): BertOutput(\n            (dense): Linear(in_features=3072, out_features=768, bias=True)\n            (LayerNorm): LayerNorm((768,), eps=1e-12, elementwise_affine=True)\n            (dropout): Dropout(p=0.1, inplace=False)\n          )\n        )\n        (1): BertLayer(\n          (attention): BertAttention(\n            (self): BertSelfAttention(\n              (query): Linear(in_features=768, out_features=768, bias=True)\n              (key): Linear(in_features=768, out_features=768, bias=True)\n              (value): Linear(in_features=768, out_features=768, bias=True)\n              (dropout): Dropout(p=0.1, inplace=False)\n            )\n            (output): BertSelfOutput(\n              (dense): Linear(in_features=768, out_features=768, bias=True)\n              (LayerNorm): LayerNorm((768,), eps=1e-12, elementwise_affine=True)\n              (dropout): Dropout(p=0.1, inplace=False)\n            )\n          )\n          (intermediate): BertIntermediate(\n            (dense): Linear(in_features=768, out_features=3072, bias=True)\n            (intermediate_act_fn): GELUActivation()\n          )\n          (output): BertOutput(\n            (dense): Linear(in_features=3072, out_features=768, bias=True)\n            (LayerNorm): LayerNorm((768,), eps=1e-12, elementwise_affine=True)\n            (dropout): Dropout(p=0.1, inplace=False)\n          )\n        )\n        (2): BertLayer(\n          (attention): BertAttention(\n            (self): BertSelfAttention(\n              (query): Linear(in_features=768, out_features=768, bias=True)\n              (key): Linear(in_features=768, out_features=768, bias=True)\n              (value): Linear(in_features=768, out_features=768, bias=True)\n              (dropout): Dropout(p=0.1, inplace=False)\n            )\n            (output): BertSelfOutput(\n              (dense): Linear(in_features=768, out_features=768, bias=True)\n              (LayerNorm): LayerNorm((768,), eps=1e-12, elementwise_affine=True)\n              (dropout): Dropout(p=0.1, inplace=False)\n            )\n          )\n          (intermediate): BertIntermediate(\n            (dense): Linear(in_features=768, out_features=3072, bias=True)\n            (intermediate_act_fn): GELUActivation()\n          )\n          (output): BertOutput(\n            (dense): Linear(in_features=3072, out_features=768, bias=True)\n            (LayerNorm): LayerNorm((768,), eps=1e-12, elementwise_affine=True)\n            (dropout): Dropout(p=0.1, inplace=False)\n          )\n        )\n        (3): BertLayer(\n          (attention): BertAttention(\n            (self): BertSelfAttention(\n              (query): Linear(in_features=768, out_features=768, bias=True)\n              (key): Linear(in_features=768, out_features=768, bias=True)\n              (value): Linear(in_features=768, out_features=768, bias=True)\n              (dropout): Dropout(p=0.1, inplace=False)\n            )\n            (output): BertSelfOutput(\n              (dense): Linear(in_features=768, out_features=768, bias=True)\n              (LayerNorm): LayerNorm((768,), eps=1e-12, elementwise_affine=True)\n              (dropout): Dropout(p=0.1, inplace=False)\n            )\n          )\n          (intermediate): BertIntermediate(\n            (dense): Linear(in_features=768, out_features=3072, bias=True)\n            (intermediate_act_fn): GELUActivation()\n          )\n          (output): BertOutput(\n            (dense): Linear(in_features=3072, out_features=768, bias=True)\n            (LayerNorm): LayerNorm((768,), eps=1e-12, elementwise_affine=True)\n            (dropout): Dropout(p=0.1, inplace=False)\n          )\n        )\n        (4): BertLayer(\n          (attention): BertAttention(\n            (self): BertSelfAttention(\n              (query): Linear(in_features=768, out_features=768, bias=True)\n              (key): Linear(in_features=768, out_features=768, bias=True)\n              (value): Linear(in_features=768, out_features=768, bias=True)\n              (dropout): Dropout(p=0.1, inplace=False)\n            )\n            (output): BertSelfOutput(\n              (dense): Linear(in_features=768, out_features=768, bias=True)\n              (LayerNorm): LayerNorm((768,), eps=1e-12, elementwise_affine=True)\n              (dropout): Dropout(p=0.1, inplace=False)\n            )\n          )\n          (intermediate): BertIntermediate(\n            (dense): Linear(in_features=768, out_features=3072, bias=True)\n            (intermediate_act_fn): GELUActivation()\n          )\n          (output): BertOutput(\n            (dense): Linear(in_features=3072, out_features=768, bias=True)\n            (LayerNorm): LayerNorm((768,), eps=1e-12, elementwise_affine=True)\n            (dropout): Dropout(p=0.1, inplace=False)\n          )\n        )\n        (5): BertLayer(\n          (attention): BertAttention(\n            (self): BertSelfAttention(\n              (query): Linear(in_features=768, out_features=768, bias=True)\n              (key): Linear(in_features=768, out_features=768, bias=True)\n              (value): Linear(in_features=768, out_features=768, bias=True)\n              (dropout): Dropout(p=0.1, inplace=False)\n            )\n            (output): BertSelfOutput(\n              (dense): Linear(in_features=768, out_features=768, bias=True)\n              (LayerNorm): LayerNorm((768,), eps=1e-12, elementwise_affine=True)\n              (dropout): Dropout(p=0.1, inplace=False)\n            )\n          )\n          (intermediate): BertIntermediate(\n            (dense): Linear(in_features=768, out_features=3072, bias=True)\n            (intermediate_act_fn): GELUActivation()\n          )\n          (output): BertOutput(\n            (dense): Linear(in_features=3072, out_features=768, bias=True)\n            (LayerNorm): LayerNorm((768,), eps=1e-12, elementwise_affine=True)\n            (dropout): Dropout(p=0.1, inplace=False)\n          )\n        )\n        (6): BertLayer(\n          (attention): BertAttention(\n            (self): BertSelfAttention(\n              (query): Linear(in_features=768, out_features=768, bias=True)\n              (key): Linear(in_features=768, out_features=768, bias=True)\n              (value): Linear(in_features=768, out_features=768, bias=True)\n              (dropout): Dropout(p=0.1, inplace=False)\n            )\n            (output): BertSelfOutput(\n              (dense): Linear(in_features=768, out_features=768, bias=True)\n              (LayerNorm): LayerNorm((768,), eps=1e-12, elementwise_affine=True)\n              (dropout): Dropout(p=0.1, inplace=False)\n            )\n          )\n          (intermediate): BertIntermediate(\n            (dense): Linear(in_features=768, out_features=3072, bias=True)\n            (intermediate_act_fn): GELUActivation()\n          )\n          (output): BertOutput(\n            (dense): Linear(in_features=3072, out_features=768, bias=True)\n            (LayerNorm): LayerNorm((768,), eps=1e-12, elementwise_affine=True)\n            (dropout): Dropout(p=0.1, inplace=False)\n          )\n        )\n        (7): BertLayer(\n          (attention): BertAttention(\n            (self): BertSelfAttention(\n              (query): Linear(in_features=768, out_features=768, bias=True)\n              (key): Linear(in_features=768, out_features=768, bias=True)\n              (value): Linear(in_features=768, out_features=768, bias=True)\n              (dropout): Dropout(p=0.1, inplace=False)\n            )\n            (output): BertSelfOutput(\n              (dense): Linear(in_features=768, out_features=768, bias=True)\n              (LayerNorm): LayerNorm((768,), eps=1e-12, elementwise_affine=True)\n              (dropout): Dropout(p=0.1, inplace=False)\n            )\n          )\n          (intermediate): BertIntermediate(\n            (dense): Linear(in_features=768, out_features=3072, bias=True)\n            (intermediate_act_fn): GELUActivation()\n          )\n          (output): BertOutput(\n            (dense): Linear(in_features=3072, out_features=768, bias=True)\n            (LayerNorm): LayerNorm((768,), eps=1e-12, elementwise_affine=True)\n            (dropout): Dropout(p=0.1, inplace=False)\n          )\n        )\n        (8): BertLayer(\n          (attention): BertAttention(\n            (self): BertSelfAttention(\n              (query): Linear(in_features=768, out_features=768, bias=True)\n              (key): Linear(in_features=768, out_features=768, bias=True)\n              (value): Linear(in_features=768, out_features=768, bias=True)\n              (dropout): Dropout(p=0.1, inplace=False)\n            )\n            (output): BertSelfOutput(\n              (dense): Linear(in_features=768, out_features=768, bias=True)\n              (LayerNorm): LayerNorm((768,), eps=1e-12, elementwise_affine=True)\n              (dropout): Dropout(p=0.1, inplace=False)\n            )\n          )\n          (intermediate): BertIntermediate(\n            (dense): Linear(in_features=768, out_features=3072, bias=True)\n            (intermediate_act_fn): GELUActivation()\n          )\n          (output): BertOutput(\n            (dense): Linear(in_features=3072, out_features=768, bias=True)\n            (LayerNorm): LayerNorm((768,), eps=1e-12, elementwise_affine=True)\n            (dropout): Dropout(p=0.1, inplace=False)\n          )\n        )\n        (9): BertLayer(\n          (attention): BertAttention(\n            (self): BertSelfAttention(\n              (query): Linear(in_features=768, out_features=768, bias=True)\n              (key): Linear(in_features=768, out_features=768, bias=True)\n              (value): Linear(in_features=768, out_features=768, bias=True)\n              (dropout): Dropout(p=0.1, inplace=False)\n            )\n            (output): BertSelfOutput(\n              (dense): Linear(in_features=768, out_features=768, bias=True)\n              (LayerNorm): LayerNorm((768,), eps=1e-12, elementwise_affine=True)\n              (dropout): Dropout(p=0.1, inplace=False)\n            )\n          )\n          (intermediate): BertIntermediate(\n            (dense): Linear(in_features=768, out_features=3072, bias=True)\n            (intermediate_act_fn): GELUActivation()\n          )\n          (output): BertOutput(\n            (dense): Linear(in_features=3072, out_features=768, bias=True)\n            (LayerNorm): LayerNorm((768,), eps=1e-12, elementwise_affine=True)\n            (dropout): Dropout(p=0.1, inplace=False)\n          )\n        )\n        (10): BertLayer(\n          (attention): BertAttention(\n            (self): BertSelfAttention(\n              (query): Linear(in_features=768, out_features=768, bias=True)\n              (key): Linear(in_features=768, out_features=768, bias=True)\n              (value): Linear(in_features=768, out_features=768, bias=True)\n              (dropout): Dropout(p=0.1, inplace=False)\n            )\n            (output): BertSelfOutput(\n              (dense): Linear(in_features=768, out_features=768, bias=True)\n              (LayerNorm): LayerNorm((768,), eps=1e-12, elementwise_affine=True)\n              (dropout): Dropout(p=0.1, inplace=False)\n            )\n          )\n          (intermediate): BertIntermediate(\n            (dense): Linear(in_features=768, out_features=3072, bias=True)\n            (intermediate_act_fn): GELUActivation()\n          )\n          (output): BertOutput(\n            (dense): Linear(in_features=3072, out_features=768, bias=True)\n            (LayerNorm): LayerNorm((768,), eps=1e-12, elementwise_affine=True)\n            (dropout): Dropout(p=0.1, inplace=False)\n          )\n        )\n        (11): BertLayer(\n          (attention): BertAttention(\n            (self): BertSelfAttention(\n              (query): Linear(in_features=768, out_features=768, bias=True)\n              (key): Linear(in_features=768, out_features=768, bias=True)\n              (value): Linear(in_features=768, out_features=768, bias=True)\n              (dropout): Dropout(p=0.1, inplace=False)\n            )\n            (output): BertSelfOutput(\n              (dense): Linear(in_features=768, out_features=768, bias=True)\n              (LayerNorm): LayerNorm((768,), eps=1e-12, elementwise_affine=True)\n              (dropout): Dropout(p=0.1, inplace=False)\n            )\n          )\n          (intermediate): BertIntermediate(\n            (dense): Linear(in_features=768, out_features=3072, bias=True)\n            (intermediate_act_fn): GELUActivation()\n          )\n          (output): BertOutput(\n            (dense): Linear(in_features=3072, out_features=768, bias=True)\n            (LayerNorm): LayerNorm((768,), eps=1e-12, elementwise_affine=True)\n            (dropout): Dropout(p=0.1, inplace=False)\n          )\n        )\n      )\n    )\n    (pooler): BertPooler(\n      (dense): Linear(in_features=768, out_features=768, bias=True)\n      (activation): Tanh()\n    )\n  )\n  (dropout): Dropout(p=0.1, inplace=False)\n  (classifier): Linear(in_features=768, out_features=5, bias=True)\n)"
     },
     "metadata": {}
    }
   ],
   "outputs_reference": "s3:deepnote-cell-outputs-production/b277bbac-1308-494e-9b37-3c23754cb529",
   "content_dependencies": null
  },
  {
   "cell_type": "code",
   "metadata": {
    "id": "3HCgGSwcLI2l",
    "source_hash": null,
    "execution_start": 1724532377111,
    "execution_millis": 7843,
    "deepnote_to_be_reexecuted": false,
    "cell_id": "07b268a89c2b47f1bc300200a78aa703",
    "deepnote_cell_type": "code"
   },
   "source": [
    " # Setting up the training parameters and the training loop using Hugging Face's trainer\n",
    "\n",
    "# Define training arguments\n",
    "training_args = TrainingArguments(\n",
    "    output_dir='./results',          # Checkpoints output\n",
    "    num_train_epochs=3,              # Number of training epochs\n",
    "    per_device_train_batch_size=8,   # Batch size for training\n",
    "    per_device_eval_batch_size=8,    # Batch size for evaluation\n",
    "    warmup_steps=500,                # Number of warmup steps for learning rate scheduler\n",
    "    weight_decay=0.01,               # Weight decay if we apply some.\n",
    "    logging_dir='./logs',            # Directory for storing logs\n",
    "    logging_steps=10,\n",
    ")\n",
    "\n",
    "# Create a Trainer instance\n",
    "trainer = Trainer(\n",
    "    model=model,\n",
    "    args=training_args,\n",
    "    train_dataset=train_dataset,\n",
    "    eval_dataset=val_dataset\n",
    ")\n",
    "\n",
    "# val_dataset is only used to evaluate and monitor model performance during training.\n",
    "# The current setup does not implement hyper parameter tuning or early stopping."
   ],
   "block_group": "2fe80189e38a4c10a2303697e1db13ff",
   "execution_count": null,
   "outputs": [],
   "outputs_reference": null,
   "content_dependencies": null
  },
  {
   "cell_type": "code",
   "metadata": {
    "id": "Xl4XDehBLKHw",
    "source_hash": null,
    "execution_start": 1724532399783,
    "execution_millis": 0,
    "deepnote_to_be_reexecuted": false,
    "cell_id": "79ee25028a9040c49567e3ee78e29485",
    "deepnote_cell_type": "code"
   },
   "source": [
    "# Train the model\n",
    "trainer.train()"
   ],
   "block_group": "1299640f466f4dde9f86de69fffc80f4",
   "execution_count": null,
   "outputs": [
    {
     "output_type": "error",
     "ename": "KernelInterrupted",
     "evalue": "Execution interrupted by the Jupyter kernel.",
     "traceback": [
      "\u001B[0;31m---------------------------------------------------------------------------\u001B[0m",
      "\u001B[0;31mKernelInterrupted\u001B[0m: Execution interrupted by the Jupyter kernel."
     ]
    }
   ],
   "outputs_reference": "dbtable:cell_outputs/fa80a7bc-dc43-4032-bb4b-5e65db7cf8b2",
   "content_dependencies": null
  },
  {
   "cell_type": "code",
   "metadata": {
    "id": "J7T29VWdNz5d",
    "cell_id": "c0740588a1d14d2d961de29638cef91c",
    "deepnote_cell_type": "code"
   },
   "source": [
    "# Alternatively resume training\n",
    "trainer.train(resume_from_checkpoint=\"./results/checkpoint-7314\")"
   ],
   "block_group": "7bc211e00a5f485ab5e0ca85491fd16c",
   "execution_count": null,
   "outputs": [],
   "outputs_reference": null,
   "content_dependencies": null
  },
  {
   "cell_type": "markdown",
   "metadata": {
    "id": "hs6LBYTGg5Io",
    "cell_id": "bbd6695cd93d449a87bc073189be69b6",
    "deepnote_cell_type": "markdown"
   },
   "source": [
    "Saves, zips and downloads the model"
   ],
   "block_group": "44b9f793651e402898215a0c0bf0343c"
  },
  {
   "cell_type": "code",
   "metadata": {
    "id": "HZkHVltLRFlc",
    "cell_id": "09483211e18648f5a8a03095751f63b8",
    "deepnote_cell_type": "code"
   },
   "source": [
    "trainer.save_model(\"bert_sequence\")  # Save model\n",
    "!zip -r bert_sequence.zip bert_sequence  # Zip directory\n",
    "files.download('bert_sequence.zip')  # Download file"
   ],
   "block_group": "ff102fd1b65a4a19962a888eb7ad0c71",
   "execution_count": null,
   "outputs": [],
   "outputs_reference": null,
   "content_dependencies": null
  },
  {
   "cell_type": "markdown",
   "metadata": {
    "id": "kzGu0JtrUFW3",
    "cell_id": "17226229b6744db882b013b342070994",
    "deepnote_cell_type": "markdown"
   },
   "source": [
    "###OPTION 2: Import fined tunned BertForSequenceClassification model and re-create trainer instance."
   ],
   "block_group": "40ffaa5429bf4234a70e3bcd54cbd504"
  },
  {
   "cell_type": "code",
   "metadata": {
    "id": "Tmm-5pmHBrXL",
    "colab": {
     "base_uri": "https://localhost:8080/"
    },
    "outputId": "f047a6e9-4902-40a6-ede0-bdd96d13e5d5",
    "cell_id": "f206026f0fe943c0a712b1a7634f575b",
    "deepnote_cell_type": "code"
   },
   "source": [
    "!unzip bert_sequence.zip # Unzip file containing config, model and training_args files"
   ],
   "block_group": "2c81af1e7fba4d73bde5395ac94afcea",
   "execution_count": null,
   "outputs": [
    {
     "name": "stdout",
     "output_type": "stream",
     "text": "unzip:  cannot find or open bert_sequence.zip, bert_sequence.zip.zip or bert_sequence.zip.ZIP.\n"
    }
   ],
   "outputs_reference": "dbtable:cell_outputs/3624b0a0-7631-4f8f-90e0-2e63c7d5f0d6",
   "content_dependencies": null
  },
  {
   "cell_type": "code",
   "metadata": {
    "id": "6NTrHcIhTY68",
    "cell_id": "c19d19e621f94cd28cc3e07a408d029d",
    "deepnote_cell_type": "code"
   },
   "source": [
    "model = BertForSequenceClassification.from_pretrained(\"bert_sequence\") # Import pretrained model\n",
    "training_args = torch.load('bert_sequence/training_args.bin') # Import training arguments\n",
    "\n",
    "trainer = Trainer(\n",
    "    model=model,\n",
    "    args=training_args,\n",
    "    train_dataset=train_dataset\n",
    ")"
   ],
   "block_group": "c73705d6de304c6591254bccdf997b30",
   "execution_count": null,
   "outputs": [],
   "outputs_reference": null,
   "content_dependencies": null
  },
  {
   "cell_type": "markdown",
   "metadata": {
    "id": "cr2lPZ8Sd9sw",
    "cell_id": "a1049514d5634aafb97745c26acf9bfc",
    "deepnote_cell_type": "markdown"
   },
   "source": [
    "##Evaluating model performance"
   ],
   "block_group": "f609ea5cf17e444890eab67559613404"
  },
  {
   "cell_type": "code",
   "metadata": {
    "id": "HktWSHdNd0VR",
    "colab": {
     "height": 182,
     "base_uri": "https://localhost:8080/"
    },
    "outputId": "870103fb-d78d-4df0-f665-7895c5eb3992",
    "cell_id": "db5b65b1592c4adda1dd38da1cdfef4d",
    "deepnote_cell_type": "code"
   },
   "source": [
    "results = trainer.evaluate(eval_dataset=test_dataset) # Evaluation using test_dataset\n",
    "print(results)"
   ],
   "block_group": "50cdb002a0b240cba42cabe4f06c6125",
   "execution_count": null,
   "outputs": [
    {
     "data": {
      "text/html": "\n    <div>\n      \n      <progress value='305' max='305' style='width:300px; height:20px; vertical-align: middle;'></progress>\n      [305/305 01:18]\n    </div>\n    ",
      "text/plain": "<IPython.core.display.HTML object>"
     },
     "metadata": {},
     "output_type": "display_data"
    },
    {
     "ename": "NameError",
     "evalue": "name 'evaluation_results' is not defined",
     "output_type": "error",
     "traceback": [
      "\u001B[0;31m---------------------------------------------------------------------------\u001B[0m",
      "\u001B[0;31mNameError\u001B[0m                                 Traceback (most recent call last)",
      "\u001B[0;32m<ipython-input-32-9b04f7927e19>\u001B[0m in \u001B[0;36m<cell line: 2>\u001B[0;34m()\u001B[0m\n\u001B[1;32m      1\u001B[0m \u001B[0mresults\u001B[0m \u001B[0;34m=\u001B[0m \u001B[0mtrainer\u001B[0m\u001B[0;34m.\u001B[0m\u001B[0mevaluate\u001B[0m\u001B[0;34m(\u001B[0m\u001B[0meval_dataset\u001B[0m\u001B[0;34m=\u001B[0m\u001B[0mtest_dataset\u001B[0m\u001B[0;34m)\u001B[0m \u001B[0;31m# Evaluation using test_dataset\u001B[0m\u001B[0;34m\u001B[0m\u001B[0;34m\u001B[0m\u001B[0m\n\u001B[0;32m----> 2\u001B[0;31m \u001B[0mprint\u001B[0m\u001B[0;34m(\u001B[0m\u001B[0mevaluation_results\u001B[0m\u001B[0;34m)\u001B[0m\u001B[0;34m\u001B[0m\u001B[0;34m\u001B[0m\u001B[0m\n\u001B[0m",
      "\u001B[0;31mNameError\u001B[0m: name 'evaluation_results' is not defined"
     ]
    }
   ],
   "outputs_reference": "s3:deepnote-cell-outputs-production/ca3e5951-7773-4f59-ba1e-7d4511652e9b",
   "content_dependencies": null
  },
  {
   "cell_type": "code",
   "metadata": {
    "id": "DUwiLCVkgel-",
    "cell_id": "7450f3f0c5c2452090ea170d043fdc2a",
    "deepnote_cell_type": "code"
   },
   "source": [
    "predictions = trainer.predict(test_dataset)"
   ],
   "block_group": "4b7212ee86084009a8b403d46e773f17",
   "execution_count": null,
   "outputs": [],
   "outputs_reference": null,
   "content_dependencies": null
  },
  {
   "cell_type": "code",
   "metadata": {
    "id": "Sabone36gkzI",
    "cell_id": "4544c43b59cf4d80a82e8a245e423f6e",
    "deepnote_cell_type": "code"
   },
   "source": [
    "predicted_labels = predictions.predictions.argmax(-1)"
   ],
   "block_group": "be3b252af5af455a858320ac99fe1eb2",
   "execution_count": null,
   "outputs": [],
   "outputs_reference": null,
   "content_dependencies": null
  },
  {
   "cell_type": "code",
   "metadata": {
    "id": "ofSkZX2DgmxZ",
    "cell_id": "702d278637f149929fa78aa4a7fb1949",
    "deepnote_cell_type": "code"
   },
   "source": [
    "print(predicted_labels)"
   ],
   "block_group": "27a002ec82fd4ae3b4c547774a48a0a1",
   "execution_count": null,
   "outputs": [],
   "outputs_reference": null,
   "content_dependencies": null
  },
  {
   "cell_type": "code",
   "metadata": {
    "id": "h_LtbTmN-Wlz",
    "cell_id": "6c8fb6327e914fa8ad56617a331784ed",
    "deepnote_cell_type": "code"
   },
   "source": [
    "true_labels = [item['labels'] for item in test_dataset]\n"
   ],
   "block_group": "351df39231724b109d8e521fc9dc0c27",
   "execution_count": null,
   "outputs": [],
   "outputs_reference": null,
   "content_dependencies": null
  },
  {
   "cell_type": "code",
   "metadata": {
    "id": "llW8jwev-rQK",
    "cell_id": "f14b5829375f468b921837d2c2a471e5",
    "deepnote_cell_type": "code"
   },
   "source": [
    "from sklearn.metrics import precision_score, recall_score\n",
    "\n",
    "precision = precision_score(true_labels, predicted_labels, average='weighted')\n",
    "recall = recall_score(true_labels, predicted_labels, average='weighted')\n",
    "accuracy = (predicted_labels == true_labels).mean()\n",
    "\n",
    "print(f'Precision: {precision}')\n",
    "print(f'Recall: {recall}')\n",
    "print(f'Accuracy: {accuracy}')"
   ],
   "block_group": "d6e1a7b20a7f44a894e1cbdb7e6fb570",
   "execution_count": null,
   "outputs": [],
   "outputs_reference": null,
   "content_dependencies": null
  },
  {
   "cell_type": "markdown",
   "metadata": {
    "id": "B8qNoWAc5v1q",
    "cell_id": "4670968e2ae241e19817e6ac9bc34a41",
    "deepnote_cell_type": "markdown"
   },
   "source": [
    "**Method 2 summary:** this method implements 3 pre-proccesing steps: expanding contractions, tokenization using Bert, and converting the Spark DataFrame into a custom BertDataset compatible with PyTorch. After transforming tha data, we fit the training dataset into a BertForSequenceClassification which allows us to fine-tune the general-purpose bert-base-uncased model and add a classification layer on top tailored for our specific fine-grained sentiment analysis application.\n",
    "\n",
    "This sequence-based approach is particularly effective for fine-grained sentiment analysis because it is designed to understand the entire sequence of the words in the context. Unlike the ClassifierDL model that uses precomputed embeddings, it can dynamically interpret the text and detect subtle shifts in tone and meaning that are essential for distinguishing between closely ranked sentiment categories (like a 4-star vs. 5-star rating).\n",
    "\n",
    "Transforming the Spark DataFrame into a custom python dataset compatible with PyTorch is a common hybrid approach use in large data analysis. Which consist of implementing Spark NLP for pre-proccesing of large amounts of data in a distributed enviroment, while PyTorch is utilized for advanced model training and fine-tuning capabilities. Sampling or downsizing is often required to accommodate the memory constraints of single-machine training. This strategy is particularly advantageous and often used because although the Spark NLP library supports the import of pre-trained models like BertForSequenceClassification it lacks the capability for fine-tuning these models, a task typically and effectively handled by PyTorch or TensorFlow.\n",
    "\n",
    "The model obtained with this method yield a precision, recall and accuracy score of 0.91. Indicating that this model is well suited for our multi-graded sentiment analysis approach and capable of performing sentiment analysis into 5 distinct categories (1 star to 5 stars).\n"
   ],
   "block_group": "60b0bee200e74e79ac6ba5aebd0e68f1"
  },
  {
   "cell_type": "markdown",
   "metadata": {
    "id": "KZ_jAoSrVVam",
    "cell_id": "4b507090ad634151a4a94a145debe8ec",
    "deepnote_cell_type": "markdown"
   },
   "source": [
    "#Performing distributed sentiment analysis inference with SparkTorch using fine-tunned BertForSequenceClassification model"
   ],
   "block_group": "df5d989e83f1405d853de69daaf385ed"
  },
  {
   "cell_type": "code",
   "metadata": {
    "id": "RS1X0js_qXSh",
    "colab": {
     "height": 34,
     "base_uri": "https://localhost:8080/"
    },
    "outputId": "9f8ae492-bbb1-480b-ea00-6360ec15a772",
    "cell_id": "f0875eb762ec46b4ab39515da81167b0",
    "deepnote_cell_type": "code"
   },
   "source": [
    "new_reviews = [\n",
    "    \"This is the best album I have ever listened to in my entire life.\",\n",
    "    \"Do not buy this microwave.\",\n",
    "    \"I absolutely love this costume! It has exceeded all my expectations.\",\n",
    "    \"The tooth brush is average\",\n",
    "    \"Does the job but nothing exceptional.\",\n",
    "    \"Really disappointed with these new air pods. It didn't live up to the hype.\"\n",
    "]\n",
    "\n",
    "# Tokenize the new reviews\n",
    "tokenized_reviews = [bert_tokenize(review) for review in new_reviews]\n",
    "\n",
    "# Prepare the encodings for the dataset\n",
    "encodings = {\n",
    "    'input_ids': [bert_tokenizer.encode(review, add_special_tokens=True, max_length=512, truncation=True, padding='max_length') for review in new_reviews],\n",
    "    'attention_mask': [[int(token_id > 0) for token_id in tokens] for tokens in tokenized_reviews]\n",
    "}\n",
    "\n",
    "# Create the dataset using your BertDataset class, generate dummy labels since they are not used in prediction\n",
    "small_dataset = BertDataset(encodings, [0 for _ in new_reviews])\n",
    "\n",
    "# Predict using the Trainer instance\n",
    "predictions = trainer.predict(small_dataset)\n",
    "predicted_labels = predictions.predictions.argmax(-1) + 1\n",
    "\n",
    "# Print the predictions\n",
    "print(predicted_labels)\n"
   ],
   "block_group": "1bbb416ed6674582b020f37634885a5c",
   "execution_count": null,
   "outputs": [
    {
     "data": {
      "text/html": "",
      "text/plain": "<IPython.core.display.HTML object>"
     },
     "metadata": {},
     "output_type": "display_data"
    },
    {
     "name": "stdout",
     "output_type": "stream",
     "text": "[5 1 5 4 3 2]\n"
    }
   ],
   "outputs_reference": "dbtable:cell_outputs/957bc8da-92ff-4753-887f-b153273be49c",
   "content_dependencies": null
  },
  {
   "cell_type": "markdown",
   "metadata": {
    "id": "RbgHh2oFNObQ",
    "cell_id": "7d1dc4f6748846b883aaa6a752a73849",
    "deepnote_cell_type": "markdown"
   },
   "source": [
    "# Conclusion"
   ],
   "block_group": "711787388b094bb7ac9c6f37061eae1e"
  },
  {
   "cell_type": "markdown",
   "metadata": {
    "id": "_4ChuOb6NUuJ",
    "cell_id": "34dc0aaedeed49afb0b5376414720fe8",
    "deepnote_cell_type": "markdown"
   },
   "source": [
    " The two methods for sentiment analysis offer contrasting insights.\n",
    "\n",
    "Method 1, utilizing Spark NLP ClassifierDLApproach with precomputed BERT sentence embeddings, is efficient for distributed processing. It's model is well suited for traditional sentiment analysis involving negative, neutral, and positive labels but is less effective for nuanced sentiment analysis due to its moderate performance and tendency for near-miss classifications.\n",
    "\n",
    "Method 2, with BertForSequenceClassification in PyTorch, is superior for fine-grained sentiment analysis due to its sequence-based modeling capable of capturing the context and subtle sentiment shifts.\n",
    "\n",
    "This contrast highlights the importance of choosing the right model based on the specific requirements of the sentiment analysis task in a Spark distributed computing enviroment."
   ],
   "block_group": "b75b0b6026364c9fb79a1a0e4c2b8ac6"
  },
  {
   "cell_type": "markdown",
   "source": [
    "<a style='text-decoration:none;line-height:16px;display:flex;color:#5B5B62;padding:10px;justify-content:end;' href='https://deepnote.com?utm_source=created-in-deepnote-cell&projectId=8067bc08-70d1-42ef-8971-b9437e40bd21' target=\"_blank\">\n",
    "<img alt='Created in deepnote.com' style='display:inline;max-height:16px;margin:0px;margin-right:7.5px;' src='data:image/svg+xml;base64,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' > </img>\n",
    "Created in <span style='font-weight:600;margin-left:4px;'>Deepnote</span></a>"
   ],
   "metadata": {
    "created_in_deepnote_cell": true,
    "deepnote_cell_type": "markdown"
   }
  }
 ],
 "nbformat": 4,
 "nbformat_minor": 0,
 "metadata": {
  "deepnote_notebook_id": "29a1bb03d7e0472eac726277b97b3537",
  "deepnote_execution_queue": []
 }
}
